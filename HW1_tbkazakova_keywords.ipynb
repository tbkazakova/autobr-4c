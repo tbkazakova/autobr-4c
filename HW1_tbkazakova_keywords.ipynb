{
 "cells": [
  {
   "cell_type": "code",
   "execution_count": 2,
   "metadata": {},
   "outputs": [],
   "source": [
    "import RAKE\n",
    "import nltk\n",
    "from nltk.corpus import stopwords"
   ]
  },
  {
   "cell_type": "code",
   "execution_count": 41,
   "metadata": {},
   "outputs": [],
   "source": [
    "stop = stopwords.words('russian')\n",
    "stop.append('который')"
   ]
  },
  {
   "cell_type": "code",
   "execution_count": 35,
   "metadata": {},
   "outputs": [],
   "source": [
    "from pymorphy2 import MorphAnalyzer\n",
    "from pymorphy2.tokenizers import simple_word_tokenize"
   ]
  },
  {
   "cell_type": "code",
   "execution_count": 36,
   "metadata": {},
   "outputs": [],
   "source": [
    "# Лемматизация текстов\n",
    "m = MorphAnalyzer()\n",
    "def normalize_text(text):\n",
    "    lemmas = []\n",
    "    for t in simple_word_tokenize(text):\n",
    "        lemmas.append(\n",
    "            m.parse(t)[0].normal_form\n",
    "        )\n",
    "    return ' '.join(lemmas)"
   ]
  },
  {
   "cell_type": "markdown",
   "metadata": {},
   "source": [
    "### Задание 1\n",
    "\n",
    "Миникорпус состоит из 9 новостей с сайта http://astro.uni-altai.ru/.\n",
    "\n",
    "После текста новости даются ключевые слова. Написано: \"Ключевые слова: ...\""
   ]
  },
  {
   "cell_type": "markdown",
   "metadata": {},
   "source": [
    "### Задание 2\n",
    "\n",
    "Я разметила ключевые слова. Эталоном стало объединение двух списков.\n",
    "\n",
    "В файликах с текстами перед содержанием есть абзац с ключевыми словами от сайта и с эталонными (=их+мои)"
   ]
  },
  {
   "cell_type": "code",
   "execution_count": 53,
   "metadata": {},
   "outputs": [],
   "source": [
    "# Получили корпус из файликов\n",
    "all_kws = []\n",
    "all_texts = []\n",
    "for i in range(9):\n",
    "    filename = 'HW1_keywords_corpus/' + str(i+1) + '.txt'\n",
    "    with open(filename, encoding='utf8') as f:\n",
    "        info = f.readlines()\n",
    "        kw = info[2].strip().split(': ')[1].split(', ')\n",
    "        text = info[4:]\n",
    "        text = ''.join(text)\n",
    "    all_kws.append(kw)\n",
    "    all_texts.append(text)"
   ]
  },
  {
   "cell_type": "code",
   "execution_count": 61,
   "metadata": {},
   "outputs": [],
   "source": [
    "# Нормализуем кс так, как мы их будем получать от методов\n",
    "all_kws_norm = []\n",
    "for kws in all_kws:\n",
    "    all_kws_norm.append(list(map(normalize_text, kws)))"
   ]
  },
  {
   "cell_type": "markdown",
   "metadata": {},
   "source": [
    "### Задание 3"
   ]
  },
  {
   "cell_type": "code",
   "execution_count": 54,
   "metadata": {},
   "outputs": [],
   "source": [
    "rake = RAKE.Rake(stop)"
   ]
  },
  {
   "cell_type": "code",
   "execution_count": 62,
   "metadata": {},
   "outputs": [
    {
     "data": {
      "text/plain": [
       "[('hat-p-7b', 9.0),\n",
       " ('свой масса', 4.0),\n",
       " ('результат наблюдение', 4.0),\n",
       " ('оно составить', 4.0),\n",
       " ('поскольку угол', 4.0),\n",
       " ('некоторый шанс', 4.0),\n",
       " ('процесс сближение', 4.0),\n",
       " ('американский коллега', 4.0),\n",
       " ('сайт arxiv', 4.0),\n",
       " ('материал newscientist', 4.0),\n",
       " ('день назад', 3.5),\n",
       " ('2 день', 1.5),\n",
       " ('обнаружить', 1.0),\n",
       " ('экзопланет', 1.0),\n",
       " ('двигаться', 1.0),\n",
       " ('указывать', 1.0),\n",
       " ('располагаться', 1.0),\n",
       " ('земля', 1.0),\n",
       " ('соответственно', 1.0),\n",
       " ('составлять', 1.0),\n",
       " ('ося', 1.0),\n",
       " ('смочь', 1.0),\n",
       " ('вероятность', 1.0),\n",
       " ('образ', 1.0),\n",
       " ('оставаться', 1.0),\n",
       " ('система', 1.0),\n",
       " ('планета', 1.0),\n",
       " ('вероятно', 1.0),\n",
       " ('реализация', 1.0),\n",
       " ('заметить', 1.0),\n",
       " ('величина', 1.0),\n",
       " ('получить', 1.0),\n",
       " ('сообщение', 1.0),\n",
       " ('обнаружение', 1.0),\n",
       " ('экзопланета', 1.0),\n",
       " ('пришлый', 1.0),\n",
       " ('напомнить', 1.0),\n",
       " ('скачать', 1.0),\n",
       " ('подготовить', 1.0),\n",
       " ('1', 0),\n",
       " ('8', 0),\n",
       " ('4', 0),\n",
       " ('2', 0),\n",
       " ('182', 0),\n",
       " ('˚', 0),\n",
       " ('99', 0),\n",
       " ('6 ˚', 0),\n",
       " ('+ 12', 0),\n",
       " ('-21', 0),\n",
       " ('5 ˚', 0)]"
      ]
     },
     "execution_count": 62,
     "metadata": {},
     "output_type": "execute_result"
    }
   ],
   "source": [
    "rake_kw_list = rake.run(normalize_text(all_texts[1]), maxWords=2, minFrequency=1)\n",
    "аtext_list"
   ]
  },
  {
   "cell_type": "code",
   "execution_count": null,
   "metadata": {},
   "outputs": [],
   "source": []
  }
 ],
 "metadata": {
  "kernelspec": {
   "display_name": "Python 3",
   "language": "python",
   "name": "python3"
  },
  "language_info": {
   "codemirror_mode": {
    "name": "ipython",
    "version": 3
   },
   "file_extension": ".py",
   "mimetype": "text/x-python",
   "name": "python",
   "nbconvert_exporter": "python",
   "pygments_lexer": "ipython3",
   "version": "3.7.4"
  }
 },
 "nbformat": 4,
 "nbformat_minor": 2
}
