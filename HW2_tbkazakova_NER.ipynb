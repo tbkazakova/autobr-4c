{
  "cells": [
    {
      "cell_type": "markdown",
      "metadata": {
        "id": "tCBMGkLOzdFJ"
      },
      "source": [
        "# Домашнее задание 2. NER\n",
        "## Таня Казакова"
      ]
    },
    {
      "cell_type": "markdown",
      "metadata": {
        "id": "raJ0IfalzdFT"
      },
      "source": [
        "Смотрим укулеле\n",
        "3+ способа найти упоминания товаров в отзывах:\n",
        "1. Построить word2vec, посмотреть самые близкие слова к слову укулеле, посмотреть в словарях синонимов синонимы к слову укулеле, добавить все названия марок, типов укулеле из каталога, найти эти слова в тексте в разных падежах.\n",
        "\n",
        "2. (хорошо идёт вместе с 1) Написать правила с помощью yargy или чего-то подобного.\n",
        "\n",
        "а) Описать несколько способов упомянуть товар: ADJ ukulele NUM и некоторые другие, где внутри нужное нам слово, а окружение подчиняется правилам.\n",
        "\n",
        "б) Взять конструкции play the X и некоторые другие, искать X.\n",
        "\n",
        "3. Обучить нейросети классифицировать каждое слово упоминание/неупоминание, для обучения использовать размеченный корпус."
      ]
    },
    {
      "cell_type": "code",
      "source": [
        "pip install spacy==3.2"
      ],
      "metadata": {
        "colab": {
          "base_uri": "https://localhost:8080/"
        },
        "id": "XtcCrqES71yx",
        "outputId": "b369981c-4440-4174-d97a-3418582f4a84"
      },
      "execution_count": 1,
      "outputs": [
        {
          "output_type": "stream",
          "name": "stdout",
          "text": [
            "Collecting spacy==3.2\n",
            "  Downloading spacy-3.2.0-cp37-cp37m-manylinux_2_17_x86_64.manylinux2014_x86_64.whl (6.0 MB)\n",
            "\u001b[K     |████████████████████████████████| 6.0 MB 4.8 MB/s \n",
            "\u001b[?25hRequirement already satisfied: tqdm<5.0.0,>=4.38.0 in /usr/local/lib/python3.7/dist-packages (from spacy==3.2) (4.62.3)\n",
            "Requirement already satisfied: setuptools in /usr/local/lib/python3.7/dist-packages (from spacy==3.2) (57.4.0)\n",
            "Requirement already satisfied: murmurhash<1.1.0,>=0.28.0 in /usr/local/lib/python3.7/dist-packages (from spacy==3.2) (1.0.6)\n",
            "Requirement already satisfied: wasabi<1.1.0,>=0.8.1 in /usr/local/lib/python3.7/dist-packages (from spacy==3.2) (0.8.2)\n",
            "Requirement already satisfied: requests<3.0.0,>=2.13.0 in /usr/local/lib/python3.7/dist-packages (from spacy==3.2) (2.23.0)\n",
            "Collecting srsly<3.0.0,>=2.4.1\n",
            "  Downloading srsly-2.4.2-cp37-cp37m-manylinux_2_17_x86_64.manylinux2014_x86_64.whl (451 kB)\n",
            "\u001b[K     |████████████████████████████████| 451 kB 46.0 MB/s \n",
            "\u001b[?25hCollecting catalogue<2.1.0,>=2.0.6\n",
            "  Downloading catalogue-2.0.6-py3-none-any.whl (17 kB)\n",
            "Requirement already satisfied: cymem<2.1.0,>=2.0.2 in /usr/local/lib/python3.7/dist-packages (from spacy==3.2) (2.0.6)\n",
            "Collecting spacy-loggers<2.0.0,>=1.0.0\n",
            "  Downloading spacy_loggers-1.0.1-py3-none-any.whl (7.0 kB)\n",
            "Requirement already satisfied: blis<0.8.0,>=0.4.0 in /usr/local/lib/python3.7/dist-packages (from spacy==3.2) (0.4.1)\n",
            "Collecting langcodes<4.0.0,>=3.2.0\n",
            "  Downloading langcodes-3.3.0-py3-none-any.whl (181 kB)\n",
            "\u001b[K     |████████████████████████████████| 181 kB 55.1 MB/s \n",
            "\u001b[?25hCollecting pydantic!=1.8,!=1.8.1,<1.9.0,>=1.7.4\n",
            "  Downloading pydantic-1.8.2-cp37-cp37m-manylinux2014_x86_64.whl (10.1 MB)\n",
            "\u001b[K     |████████████████████████████████| 10.1 MB 59.3 MB/s \n",
            "\u001b[?25hCollecting pathy>=0.3.5\n",
            "  Downloading pathy-0.6.1-py3-none-any.whl (42 kB)\n",
            "\u001b[K     |████████████████████████████████| 42 kB 1.1 MB/s \n",
            "\u001b[?25hRequirement already satisfied: packaging>=20.0 in /usr/local/lib/python3.7/dist-packages (from spacy==3.2) (21.3)\n",
            "Requirement already satisfied: numpy>=1.15.0 in /usr/local/lib/python3.7/dist-packages (from spacy==3.2) (1.19.5)\n",
            "Requirement already satisfied: preshed<3.1.0,>=3.0.2 in /usr/local/lib/python3.7/dist-packages (from spacy==3.2) (3.0.6)\n",
            "Collecting typer<0.5.0,>=0.3.0\n",
            "  Downloading typer-0.4.0-py3-none-any.whl (27 kB)\n",
            "Collecting thinc<8.1.0,>=8.0.12\n",
            "  Downloading thinc-8.0.13-cp37-cp37m-manylinux_2_17_x86_64.manylinux2014_x86_64.whl (628 kB)\n",
            "\u001b[K     |████████████████████████████████| 628 kB 54.6 MB/s \n",
            "\u001b[?25hRequirement already satisfied: jinja2 in /usr/local/lib/python3.7/dist-packages (from spacy==3.2) (2.11.3)\n",
            "Requirement already satisfied: typing-extensions<4.0.0.0,>=3.7.4 in /usr/local/lib/python3.7/dist-packages (from spacy==3.2) (3.10.0.2)\n",
            "Collecting spacy-legacy<3.1.0,>=3.0.8\n",
            "  Downloading spacy_legacy-3.0.8-py2.py3-none-any.whl (14 kB)\n",
            "Requirement already satisfied: zipp>=0.5 in /usr/local/lib/python3.7/dist-packages (from catalogue<2.1.0,>=2.0.6->spacy==3.2) (3.6.0)\n",
            "Requirement already satisfied: pyparsing!=3.0.5,>=2.0.2 in /usr/local/lib/python3.7/dist-packages (from packaging>=20.0->spacy==3.2) (3.0.6)\n",
            "Requirement already satisfied: smart-open<6.0.0,>=5.0.0 in /usr/local/lib/python3.7/dist-packages (from pathy>=0.3.5->spacy==3.2) (5.2.1)\n",
            "Requirement already satisfied: urllib3!=1.25.0,!=1.25.1,<1.26,>=1.21.1 in /usr/local/lib/python3.7/dist-packages (from requests<3.0.0,>=2.13.0->spacy==3.2) (1.24.3)\n",
            "Requirement already satisfied: chardet<4,>=3.0.2 in /usr/local/lib/python3.7/dist-packages (from requests<3.0.0,>=2.13.0->spacy==3.2) (3.0.4)\n",
            "Requirement already satisfied: idna<3,>=2.5 in /usr/local/lib/python3.7/dist-packages (from requests<3.0.0,>=2.13.0->spacy==3.2) (2.10)\n",
            "Requirement already satisfied: certifi>=2017.4.17 in /usr/local/lib/python3.7/dist-packages (from requests<3.0.0,>=2.13.0->spacy==3.2) (2021.10.8)\n",
            "Requirement already satisfied: click<9.0.0,>=7.1.1 in /usr/local/lib/python3.7/dist-packages (from typer<0.5.0,>=0.3.0->spacy==3.2) (7.1.2)\n",
            "Requirement already satisfied: MarkupSafe>=0.23 in /usr/local/lib/python3.7/dist-packages (from jinja2->spacy==3.2) (2.0.1)\n",
            "Installing collected packages: catalogue, typer, srsly, pydantic, thinc, spacy-loggers, spacy-legacy, pathy, langcodes, spacy\n",
            "  Attempting uninstall: catalogue\n",
            "    Found existing installation: catalogue 1.0.0\n",
            "    Uninstalling catalogue-1.0.0:\n",
            "      Successfully uninstalled catalogue-1.0.0\n",
            "  Attempting uninstall: srsly\n",
            "    Found existing installation: srsly 1.0.5\n",
            "    Uninstalling srsly-1.0.5:\n",
            "      Successfully uninstalled srsly-1.0.5\n",
            "  Attempting uninstall: thinc\n",
            "    Found existing installation: thinc 7.4.0\n",
            "    Uninstalling thinc-7.4.0:\n",
            "      Successfully uninstalled thinc-7.4.0\n",
            "  Attempting uninstall: spacy\n",
            "    Found existing installation: spacy 2.2.4\n",
            "    Uninstalling spacy-2.2.4:\n",
            "      Successfully uninstalled spacy-2.2.4\n",
            "Successfully installed catalogue-2.0.6 langcodes-3.3.0 pathy-0.6.1 pydantic-1.8.2 spacy-3.2.0 spacy-legacy-3.0.8 spacy-loggers-1.0.1 srsly-2.4.2 thinc-8.0.13 typer-0.4.0\n"
          ]
        }
      ]
    },
    {
      "cell_type": "code",
      "source": [
        "pip install pymorphy2"
      ],
      "metadata": {
        "colab": {
          "base_uri": "https://localhost:8080/"
        },
        "id": "YLLDr-VmRHOy",
        "outputId": "310cc12f-9181-4879-bdd3-8c7b47263668"
      },
      "execution_count": 52,
      "outputs": [
        {
          "output_type": "stream",
          "name": "stdout",
          "text": [
            "Collecting pymorphy2\n",
            "  Downloading pymorphy2-0.9.1-py3-none-any.whl (55 kB)\n",
            "\u001b[K     |████████████████████████████████| 55 kB 2.1 MB/s \n",
            "\u001b[?25hCollecting dawg-python>=0.7.1\n",
            "  Downloading DAWG_Python-0.7.2-py2.py3-none-any.whl (11 kB)\n",
            "Requirement already satisfied: docopt>=0.6 in /usr/local/lib/python3.7/dist-packages (from pymorphy2) (0.6.2)\n",
            "Collecting pymorphy2-dicts-ru<3.0,>=2.4\n",
            "  Downloading pymorphy2_dicts_ru-2.4.417127.4579844-py2.py3-none-any.whl (8.2 MB)\n",
            "\u001b[K     |████████████████████████████████| 8.2 MB 10.9 MB/s \n",
            "\u001b[?25hInstalling collected packages: pymorphy2-dicts-ru, dawg-python, pymorphy2\n",
            "Successfully installed dawg-python-0.7.2 pymorphy2-0.9.1 pymorphy2-dicts-ru-2.4.417127.4579844\n"
          ]
        }
      ]
    },
    {
      "cell_type": "code",
      "source": [
        "import nltk\n",
        "nltk.download('punkt')\n",
        "from nltk.tokenize import word_tokenize\n",
        "from tqdm import tqdm\n",
        "tqdm.pandas()\n",
        "import pymorphy2\n",
        "morph = pymorphy2.MorphAnalyzer()"
      ],
      "metadata": {
        "colab": {
          "base_uri": "https://localhost:8080/"
        },
        "id": "O4FK5IyNRO0Y",
        "outputId": "994aab99-802c-4571-8a5a-4ffabd0298b1"
      },
      "execution_count": 53,
      "outputs": [
        {
          "output_type": "stream",
          "name": "stdout",
          "text": [
            "[nltk_data] Downloading package punkt to /root/nltk_data...\n",
            "[nltk_data]   Unzipping tokenizers/punkt.zip.\n"
          ]
        }
      ]
    },
    {
      "cell_type": "code",
      "source": [
        "import spacy"
      ],
      "metadata": {
        "id": "8fP74fKp8Dzc"
      },
      "execution_count": 2,
      "outputs": []
    },
    {
      "cell_type": "code",
      "source": [
        "!python -m spacy download en_core_web_sm"
      ],
      "metadata": {
        "colab": {
          "base_uri": "https://localhost:8080/"
        },
        "id": "MewbJHseLDcZ",
        "outputId": "f59edbe6-0046-4bf4-cdb3-a24d65b03778"
      },
      "execution_count": 3,
      "outputs": [
        {
          "output_type": "stream",
          "name": "stdout",
          "text": [
            "Collecting en-core-web-sm==3.2.0\n",
            "  Downloading https://github.com/explosion/spacy-models/releases/download/en_core_web_sm-3.2.0/en_core_web_sm-3.2.0-py3-none-any.whl (13.9 MB)\n",
            "\u001b[K     |████████████████████████████████| 13.9 MB 399 kB/s \n",
            "\u001b[?25hRequirement already satisfied: spacy<3.3.0,>=3.2.0 in /usr/local/lib/python3.7/dist-packages (from en-core-web-sm==3.2.0) (3.2.0)\n",
            "Requirement already satisfied: pathy>=0.3.5 in /usr/local/lib/python3.7/dist-packages (from spacy<3.3.0,>=3.2.0->en-core-web-sm==3.2.0) (0.6.1)\n",
            "Requirement already satisfied: langcodes<4.0.0,>=3.2.0 in /usr/local/lib/python3.7/dist-packages (from spacy<3.3.0,>=3.2.0->en-core-web-sm==3.2.0) (3.3.0)\n",
            "Requirement already satisfied: catalogue<2.1.0,>=2.0.6 in /usr/local/lib/python3.7/dist-packages (from spacy<3.3.0,>=3.2.0->en-core-web-sm==3.2.0) (2.0.6)\n",
            "Requirement already satisfied: pydantic!=1.8,!=1.8.1,<1.9.0,>=1.7.4 in /usr/local/lib/python3.7/dist-packages (from spacy<3.3.0,>=3.2.0->en-core-web-sm==3.2.0) (1.8.2)\n",
            "Requirement already satisfied: typer<0.5.0,>=0.3.0 in /usr/local/lib/python3.7/dist-packages (from spacy<3.3.0,>=3.2.0->en-core-web-sm==3.2.0) (0.4.0)\n",
            "Requirement already satisfied: spacy-legacy<3.1.0,>=3.0.8 in /usr/local/lib/python3.7/dist-packages (from spacy<3.3.0,>=3.2.0->en-core-web-sm==3.2.0) (3.0.8)\n",
            "Requirement already satisfied: spacy-loggers<2.0.0,>=1.0.0 in /usr/local/lib/python3.7/dist-packages (from spacy<3.3.0,>=3.2.0->en-core-web-sm==3.2.0) (1.0.1)\n",
            "Requirement already satisfied: wasabi<1.1.0,>=0.8.1 in /usr/local/lib/python3.7/dist-packages (from spacy<3.3.0,>=3.2.0->en-core-web-sm==3.2.0) (0.8.2)\n",
            "Requirement already satisfied: numpy>=1.15.0 in /usr/local/lib/python3.7/dist-packages (from spacy<3.3.0,>=3.2.0->en-core-web-sm==3.2.0) (1.19.5)\n",
            "Requirement already satisfied: thinc<8.1.0,>=8.0.12 in /usr/local/lib/python3.7/dist-packages (from spacy<3.3.0,>=3.2.0->en-core-web-sm==3.2.0) (8.0.13)\n",
            "Requirement already satisfied: srsly<3.0.0,>=2.4.1 in /usr/local/lib/python3.7/dist-packages (from spacy<3.3.0,>=3.2.0->en-core-web-sm==3.2.0) (2.4.2)\n",
            "Requirement already satisfied: tqdm<5.0.0,>=4.38.0 in /usr/local/lib/python3.7/dist-packages (from spacy<3.3.0,>=3.2.0->en-core-web-sm==3.2.0) (4.62.3)\n",
            "Requirement already satisfied: blis<0.8.0,>=0.4.0 in /usr/local/lib/python3.7/dist-packages (from spacy<3.3.0,>=3.2.0->en-core-web-sm==3.2.0) (0.4.1)\n",
            "Requirement already satisfied: cymem<2.1.0,>=2.0.2 in /usr/local/lib/python3.7/dist-packages (from spacy<3.3.0,>=3.2.0->en-core-web-sm==3.2.0) (2.0.6)\n",
            "Requirement already satisfied: packaging>=20.0 in /usr/local/lib/python3.7/dist-packages (from spacy<3.3.0,>=3.2.0->en-core-web-sm==3.2.0) (21.3)\n",
            "Requirement already satisfied: requests<3.0.0,>=2.13.0 in /usr/local/lib/python3.7/dist-packages (from spacy<3.3.0,>=3.2.0->en-core-web-sm==3.2.0) (2.23.0)\n",
            "Requirement already satisfied: preshed<3.1.0,>=3.0.2 in /usr/local/lib/python3.7/dist-packages (from spacy<3.3.0,>=3.2.0->en-core-web-sm==3.2.0) (3.0.6)\n",
            "Requirement already satisfied: murmurhash<1.1.0,>=0.28.0 in /usr/local/lib/python3.7/dist-packages (from spacy<3.3.0,>=3.2.0->en-core-web-sm==3.2.0) (1.0.6)\n",
            "Requirement already satisfied: jinja2 in /usr/local/lib/python3.7/dist-packages (from spacy<3.3.0,>=3.2.0->en-core-web-sm==3.2.0) (2.11.3)\n",
            "Requirement already satisfied: setuptools in /usr/local/lib/python3.7/dist-packages (from spacy<3.3.0,>=3.2.0->en-core-web-sm==3.2.0) (57.4.0)\n",
            "Requirement already satisfied: typing-extensions<4.0.0.0,>=3.7.4 in /usr/local/lib/python3.7/dist-packages (from spacy<3.3.0,>=3.2.0->en-core-web-sm==3.2.0) (3.10.0.2)\n",
            "Requirement already satisfied: zipp>=0.5 in /usr/local/lib/python3.7/dist-packages (from catalogue<2.1.0,>=2.0.6->spacy<3.3.0,>=3.2.0->en-core-web-sm==3.2.0) (3.6.0)\n",
            "Requirement already satisfied: pyparsing!=3.0.5,>=2.0.2 in /usr/local/lib/python3.7/dist-packages (from packaging>=20.0->spacy<3.3.0,>=3.2.0->en-core-web-sm==3.2.0) (3.0.6)\n",
            "Requirement already satisfied: smart-open<6.0.0,>=5.0.0 in /usr/local/lib/python3.7/dist-packages (from pathy>=0.3.5->spacy<3.3.0,>=3.2.0->en-core-web-sm==3.2.0) (5.2.1)\n",
            "Requirement already satisfied: chardet<4,>=3.0.2 in /usr/local/lib/python3.7/dist-packages (from requests<3.0.0,>=2.13.0->spacy<3.3.0,>=3.2.0->en-core-web-sm==3.2.0) (3.0.4)\n",
            "Requirement already satisfied: certifi>=2017.4.17 in /usr/local/lib/python3.7/dist-packages (from requests<3.0.0,>=2.13.0->spacy<3.3.0,>=3.2.0->en-core-web-sm==3.2.0) (2021.10.8)\n",
            "Requirement already satisfied: urllib3!=1.25.0,!=1.25.1,<1.26,>=1.21.1 in /usr/local/lib/python3.7/dist-packages (from requests<3.0.0,>=2.13.0->spacy<3.3.0,>=3.2.0->en-core-web-sm==3.2.0) (1.24.3)\n",
            "Requirement already satisfied: idna<3,>=2.5 in /usr/local/lib/python3.7/dist-packages (from requests<3.0.0,>=2.13.0->spacy<3.3.0,>=3.2.0->en-core-web-sm==3.2.0) (2.10)\n",
            "Requirement already satisfied: click<9.0.0,>=7.1.1 in /usr/local/lib/python3.7/dist-packages (from typer<0.5.0,>=0.3.0->spacy<3.3.0,>=3.2.0->en-core-web-sm==3.2.0) (7.1.2)\n",
            "Requirement already satisfied: MarkupSafe>=0.23 in /usr/local/lib/python3.7/dist-packages (from jinja2->spacy<3.3.0,>=3.2.0->en-core-web-sm==3.2.0) (2.0.1)\n",
            "Installing collected packages: en-core-web-sm\n",
            "  Attempting uninstall: en-core-web-sm\n",
            "    Found existing installation: en-core-web-sm 2.2.5\n",
            "    Uninstalling en-core-web-sm-2.2.5:\n",
            "      Successfully uninstalled en-core-web-sm-2.2.5\n",
            "Successfully installed en-core-web-sm-3.2.0\n",
            "\u001b[38;5;2m✔ Download and installation successful\u001b[0m\n",
            "You can now load the package via spacy.load('en_core_web_sm')\n"
          ]
        }
      ]
    },
    {
      "cell_type": "code",
      "source": [
        "import en_core_web_sm"
      ],
      "metadata": {
        "id": "VtYzW-yP8H2O"
      },
      "execution_count": 4,
      "outputs": []
    },
    {
      "cell_type": "code",
      "source": [
        "nlp = spacy.load('en_core_web_sm')"
      ],
      "metadata": {
        "id": "AGTGEPrr8LR5"
      },
      "execution_count": 5,
      "outputs": []
    },
    {
      "cell_type": "code",
      "execution_count": 6,
      "metadata": {
        "id": "-2Ex3uiJzdFU"
      },
      "outputs": [],
      "source": [
        "import os\n",
        "import json\n",
        "import gzip\n",
        "import pandas as pd\n",
        "from urllib.request import urlopen"
      ]
    },
    {
      "cell_type": "code",
      "source": [
        "from google.colab import drive\n",
        "drive.mount('/content/drive')"
      ],
      "metadata": {
        "colab": {
          "base_uri": "https://localhost:8080/"
        },
        "id": "wQOU13mc11uI",
        "outputId": "6241cc52-2e33-42bc-9a1b-a9067f8b913c"
      },
      "execution_count": 7,
      "outputs": [
        {
          "output_type": "stream",
          "name": "stdout",
          "text": [
            "Mounted at /content/drive\n"
          ]
        }
      ]
    },
    {
      "cell_type": "code",
      "execution_count": 8,
      "metadata": {
        "colab": {
          "base_uri": "https://localhost:8080/"
        },
        "id": "7xPlQVOAzdFX",
        "outputId": "be17e963-9be4-4e7a-d311-9c98c3a6173e"
      },
      "outputs": [
        {
          "output_type": "stream",
          "name": "stdout",
          "text": [
            "1667\n"
          ]
        }
      ],
      "source": [
        "### load the meta data\n",
        "\n",
        "meta_data = []\n",
        "with gzip.open('/content/drive/MyDrive/ВШЭ/Прог-е/python-personal/4 курс/HW2_meta_Musical_Instruments.json.gz') as f:\n",
        "    for l in f:\n",
        "        prod_inf = json.loads(l.strip())\n",
        "        if 'Ukuleles' in prod_inf['category']:\n",
        "            meta_data.append(prod_inf)\n",
        "    \n",
        "# total length of list, this number equals total number of products\n",
        "print(len(meta_data))\n",
        "\n",
        "# first row of the list\n",
        "# print(meta_data[0])"
      ]
    },
    {
      "cell_type": "code",
      "execution_count": 9,
      "metadata": {
        "scrolled": true,
        "colab": {
          "base_uri": "https://localhost:8080/",
          "height": 1000
        },
        "id": "7xi5EY9FzdFZ",
        "outputId": "593384e3-3b3a-4430-9923-fa738d03c027"
      },
      "outputs": [
        {
          "output_type": "execute_result",
          "data": {
            "text/html": [
              "\n",
              "  <div id=\"df-fdc7246a-af92-4505-8089-a6e65591f4c6\">\n",
              "    <div class=\"colab-df-container\">\n",
              "      <div>\n",
              "<style scoped>\n",
              "    .dataframe tbody tr th:only-of-type {\n",
              "        vertical-align: middle;\n",
              "    }\n",
              "\n",
              "    .dataframe tbody tr th {\n",
              "        vertical-align: top;\n",
              "    }\n",
              "\n",
              "    .dataframe thead th {\n",
              "        text-align: right;\n",
              "    }\n",
              "</style>\n",
              "<table border=\"1\" class=\"dataframe\">\n",
              "  <thead>\n",
              "    <tr style=\"text-align: right;\">\n",
              "      <th></th>\n",
              "      <th>category</th>\n",
              "      <th>tech1</th>\n",
              "      <th>description</th>\n",
              "      <th>fit</th>\n",
              "      <th>title</th>\n",
              "      <th>also_buy</th>\n",
              "      <th>tech2</th>\n",
              "      <th>brand</th>\n",
              "      <th>feature</th>\n",
              "      <th>rank</th>\n",
              "      <th>also_view</th>\n",
              "      <th>main_cat</th>\n",
              "      <th>similar_item</th>\n",
              "      <th>date</th>\n",
              "      <th>price</th>\n",
              "      <th>asin</th>\n",
              "      <th>imageURL</th>\n",
              "      <th>imageURLHighRes</th>\n",
              "      <th>details</th>\n",
              "    </tr>\n",
              "  </thead>\n",
              "  <tbody>\n",
              "    <tr>\n",
              "      <th>0</th>\n",
              "      <td>[Musical Instruments, Ukuleles, Mandolins &amp;amp...</td>\n",
              "      <td></td>\n",
              "      <td>[From Alfred Music, the worldwide leader in mu...</td>\n",
              "      <td></td>\n",
              "      <td>Alfreds Teach Yourself to Play Ukulele, Comple...</td>\n",
              "      <td>[]</td>\n",
              "      <td></td>\n",
              "      <td>Alfred Music Publishing</td>\n",
              "      <td>[High-quality Firebrand wood soprano ukulele w...</td>\n",
              "      <td>[&gt;#24,974 in Musical Instruments (See Top 100 ...</td>\n",
              "      <td>[B01F543PAW, B076KFB49J, B015XD4YLY, B01LYBZ4M...</td>\n",
              "      <td>Musical Instruments</td>\n",
              "      <td>class=\"a-bordered a-horizontal-stripes  a-spa...</td>\n",
              "      <td>July 10, 2011</td>\n",
              "      <td></td>\n",
              "      <td>0739079891</td>\n",
              "      <td>[https://images-na.ssl-images-amazon.com/image...</td>\n",
              "      <td>[https://images-na.ssl-images-amazon.com/image...</td>\n",
              "      <td>NaN</td>\n",
              "    </tr>\n",
              "    <tr>\n",
              "      <th>1</th>\n",
              "      <td>[Musical Instruments, Ukuleles, Mandolins &amp;amp...</td>\n",
              "      <td></td>\n",
              "      <td>[The ukelele has been responsible for launchin...</td>\n",
              "      <td></td>\n",
              "      <td>Hohner HU-212 Standard Ukulele Nato Fretboard</td>\n",
              "      <td>[]</td>\n",
              "      <td></td>\n",
              "      <td>Lanikai</td>\n",
              "      <td>[Nato top, back, sides, and neck, 12 frets and...</td>\n",
              "      <td>[&gt;#644,571 in Toys &amp;amp; Games (See Top 100 in...</td>\n",
              "      <td>[]</td>\n",
              "      <td>Toys &amp;amp; Games</td>\n",
              "      <td>class=\"a-bordered a-horizontal-stripes  a-spa...</td>\n",
              "      <td></td>\n",
              "      <td>$5.24</td>\n",
              "      <td>B00004WGMB</td>\n",
              "      <td>[https://images-na.ssl-images-amazon.com/image...</td>\n",
              "      <td>[https://images-na.ssl-images-amazon.com/image...</td>\n",
              "      <td>{}</td>\n",
              "    </tr>\n",
              "    <tr>\n",
              "      <th>2</th>\n",
              "      <td>[Musical Instruments, Ukuleles, Mandolins &amp; Ba...</td>\n",
              "      <td></td>\n",
              "      <td>[The Uke has a nato top, back and sides... wit...</td>\n",
              "      <td></td>\n",
              "      <td>Samick UK-50 Tenor Concert-size Ukulele</td>\n",
              "      <td>[]</td>\n",
              "      <td></td>\n",
              "      <td>Samick</td>\n",
              "      <td>[Samick UK-50 Tenor Concert-size Ukulele]</td>\n",
              "      <td>[&gt;#494,306 in Musical Instruments (See Top 100...</td>\n",
              "      <td>[]</td>\n",
              "      <td>Musical Instruments</td>\n",
              "      <td></td>\n",
              "      <td>December 13, 2006</td>\n",
              "      <td></td>\n",
              "      <td>B0002D02IA</td>\n",
              "      <td>[]</td>\n",
              "      <td>[]</td>\n",
              "      <td>{}</td>\n",
              "    </tr>\n",
              "    <tr>\n",
              "      <th>3</th>\n",
              "      <td>[Musical Instruments, Ukuleles, Mandolins &amp; Ba...</td>\n",
              "      <td></td>\n",
              "      <td>[Rogue Baritone Ukulele: The Rogue Baritone Uk...</td>\n",
              "      <td></td>\n",
              "      <td>Rogue Baritone Ukulele</td>\n",
              "      <td>[]</td>\n",
              "      <td></td>\n",
              "      <td></td>\n",
              "      <td>[White wood body, Geared tuners, It has 18 fre...</td>\n",
              "      <td>[&gt;#372,072 in Musical Instruments (See Top 100...</td>\n",
              "      <td>[]</td>\n",
              "      <td>Musical Instruments</td>\n",
              "      <td></td>\n",
              "      <td>November 6, 2008</td>\n",
              "      <td></td>\n",
              "      <td>B0002F6NYK</td>\n",
              "      <td>[]</td>\n",
              "      <td>[]</td>\n",
              "      <td>{}</td>\n",
              "    </tr>\n",
              "    <tr>\n",
              "      <th>4</th>\n",
              "      <td>[Musical Instruments, Ukuleles, Mandolins &amp;amp...</td>\n",
              "      <td></td>\n",
              "      <td>[Johnson ukuleles are superbly built from fine...</td>\n",
              "      <td></td>\n",
              "      <td>Johnson Hawaiian Soprano Ukulele</td>\n",
              "      <td>[]</td>\n",
              "      <td></td>\n",
              "      <td>Johnson</td>\n",
              "      <td>[Mahogany Body, Champion-Style Friction Pegs, ...</td>\n",
              "      <td>[&gt;#238,052 in Musical Instruments (See Top 100...</td>\n",
              "      <td>[B015XD4YLY, B075CRWQ4T, B001LU1SFO, B00172UVG...</td>\n",
              "      <td>Musical Instruments</td>\n",
              "      <td>class=\"a-bordered a-horizontal-stripes  a-spa...</td>\n",
              "      <td>August 7, 2005</td>\n",
              "      <td></td>\n",
              "      <td>B0002F7H0E</td>\n",
              "      <td>[https://images-na.ssl-images-amazon.com/image...</td>\n",
              "      <td>[https://images-na.ssl-images-amazon.com/image...</td>\n",
              "      <td>{}</td>\n",
              "    </tr>\n",
              "    <tr>\n",
              "      <th>...</th>\n",
              "      <td>...</td>\n",
              "      <td>...</td>\n",
              "      <td>...</td>\n",
              "      <td>...</td>\n",
              "      <td>...</td>\n",
              "      <td>...</td>\n",
              "      <td>...</td>\n",
              "      <td>...</td>\n",
              "      <td>...</td>\n",
              "      <td>...</td>\n",
              "      <td>...</td>\n",
              "      <td>...</td>\n",
              "      <td>...</td>\n",
              "      <td>...</td>\n",
              "      <td>...</td>\n",
              "      <td>...</td>\n",
              "      <td>...</td>\n",
              "      <td>...</td>\n",
              "      <td>...</td>\n",
              "    </tr>\n",
              "    <tr>\n",
              "      <th>1662</th>\n",
              "      <td>[Musical Instruments, Ukuleles, Mandolins &amp; Ba...</td>\n",
              "      <td></td>\n",
              "      <td>[This 24&amp;quot; ukulele of deadwoodrare materia...</td>\n",
              "      <td></td>\n",
              "      <td>ammoon 24&amp;quot; DeadwoodRare MaterialUkulele w...</td>\n",
              "      <td>[]</td>\n",
              "      <td></td>\n",
              "      <td>ammoon</td>\n",
              "      <td>[24\" size deadwoodrare material) ukulele., Wit...</td>\n",
              "      <td>[&gt;#116,923 in Musical Instruments (See Top 100...</td>\n",
              "      <td>[B01LYCR3CI, B077ZMJ1SW, B010DEZ2H8, B01HEQ50A...</td>\n",
              "      <td>Musical Instruments</td>\n",
              "      <td>class=\"a-bordered a-horizontal-stripes  a-spa...</td>\n",
              "      <td>September 28, 2016</td>\n",
              "      <td>$14.99</td>\n",
              "      <td>B01HEQ51ZG</td>\n",
              "      <td>[https://images-na.ssl-images-amazon.com/image...</td>\n",
              "      <td>[https://images-na.ssl-images-amazon.com/image...</td>\n",
              "      <td>{}</td>\n",
              "    </tr>\n",
              "    <tr>\n",
              "      <th>1663</th>\n",
              "      <td>[Musical Instruments, Ukuleles, Mandolins &amp; Ba...</td>\n",
              "      <td></td>\n",
              "      <td>[&lt;b&gt;Specifications:&lt;/b&gt;&lt;br /&gt; Size: 21&amp;quot;&lt;b...</td>\n",
              "      <td></td>\n",
              "      <td>ammoon 21&amp;quot; Acoustic Ukulele 15 Fret 4 Str...</td>\n",
              "      <td>[]</td>\n",
              "      <td></td>\n",
              "      <td>ammoon</td>\n",
              "      <td>[21\" size, suitable for both kids and adults.,...</td>\n",
              "      <td>[&gt;#166,841 in Musical Instruments (See Top 100...</td>\n",
              "      <td>[B010DEZ2H8, B010DEU45I, B06XF4QRP1, B0716PFB1...</td>\n",
              "      <td>Musical Instruments</td>\n",
              "      <td>class=\"a-bordered a-horizontal-stripes  a-spa...</td>\n",
              "      <td>September 28, 2016</td>\n",
              "      <td>$5.66</td>\n",
              "      <td>B01HEQ53OA</td>\n",
              "      <td>[https://images-na.ssl-images-amazon.com/image...</td>\n",
              "      <td>[https://images-na.ssl-images-amazon.com/image...</td>\n",
              "      <td>{}</td>\n",
              "    </tr>\n",
              "    <tr>\n",
              "      <th>1664</th>\n",
              "      <td>[Musical Instruments, Ukuleles, Mandolins &amp; Ba...</td>\n",
              "      <td></td>\n",
              "      <td>[Save With This Bundle : - Kala KA-ZCT-T Ziric...</td>\n",
              "      <td></td>\n",
              "      <td>Kala KA-ZCT-T Tenor Gloss Ziricote Ukulele w/ ...</td>\n",
              "      <td>[B01H74YXNQ]</td>\n",
              "      <td></td>\n",
              "      <td>Kala</td>\n",
              "      <td>[Includes a Bag and Tuner!, Binding: Black, Ne...</td>\n",
              "      <td>[&gt;#153,563 in Musical Instruments (See Top 100...</td>\n",
              "      <td>[]</td>\n",
              "      <td>Musical Instruments</td>\n",
              "      <td>class=\"a-bordered a-horizontal-stripes  a-spa...</td>\n",
              "      <td>June 22, 2016</td>\n",
              "      <td>$55.09</td>\n",
              "      <td>B01HFKFWDW</td>\n",
              "      <td>[https://images-na.ssl-images-amazon.com/image...</td>\n",
              "      <td>[https://images-na.ssl-images-amazon.com/image...</td>\n",
              "      <td>{}</td>\n",
              "    </tr>\n",
              "    <tr>\n",
              "      <th>1665</th>\n",
              "      <td>[Musical Instruments, Ukuleles, Mandolins &amp; Ba...</td>\n",
              "      <td></td>\n",
              "      <td>[Kala has created another killer sounding ukul...</td>\n",
              "      <td></td>\n",
              "      <td>Kala KA-ZCT-S Soprano Gloss Ziricote Ukulele w...</td>\n",
              "      <td>[]</td>\n",
              "      <td></td>\n",
              "      <td>Kala</td>\n",
              "      <td>[Includes a Bag and Tuner!, Binding: Black, Ne...</td>\n",
              "      <td>[&gt;#183,560 in Musical Instruments (See Top 100...</td>\n",
              "      <td>[B01D1Q5UBS, B01K86G54K, B06XHFCG65, B00172UV6...</td>\n",
              "      <td>Musical Instruments</td>\n",
              "      <td>class=\"a-bordered a-horizontal-stripes  a-spa...</td>\n",
              "      <td>June 22, 2016</td>\n",
              "      <td>$34.99</td>\n",
              "      <td>B01HFKE7RO</td>\n",
              "      <td>[https://images-na.ssl-images-amazon.com/image...</td>\n",
              "      <td>[https://images-na.ssl-images-amazon.com/image...</td>\n",
              "      <td>{}</td>\n",
              "    </tr>\n",
              "    <tr>\n",
              "      <th>1666</th>\n",
              "      <td>[Musical Instruments, Ukuleles, Mandolins &amp; Ba...</td>\n",
              "      <td></td>\n",
              "      <td>[100% new high quality Will delivery as soon a...</td>\n",
              "      <td></td>\n",
              "      <td>Aosdin Solid Mahogany Top,Concert Ukulele Bund...</td>\n",
              "      <td>[]</td>\n",
              "      <td></td>\n",
              "      <td>Elvis</td>\n",
              "      <td>[BEST UKULELE BUNDLE DEAL! High Quality at Low...</td>\n",
              "      <td>[&gt;#247,827 in Musical Instruments (See Top 100...</td>\n",
              "      <td>[B072JYXST8, B07G893ZCJ, B0749HT3WQ, B01J4V2ACG]</td>\n",
              "      <td>Musical Instruments</td>\n",
              "      <td>class=\"a-bordered a-horizontal-stripes  a-spa...</td>\n",
              "      <td>July 2, 2016</td>\n",
              "      <td>$14.99</td>\n",
              "      <td>B01HJD6838</td>\n",
              "      <td>[https://images-na.ssl-images-amazon.com/image...</td>\n",
              "      <td>[https://images-na.ssl-images-amazon.com/image...</td>\n",
              "      <td>{}</td>\n",
              "    </tr>\n",
              "  </tbody>\n",
              "</table>\n",
              "<p>1667 rows × 19 columns</p>\n",
              "</div>\n",
              "      <button class=\"colab-df-convert\" onclick=\"convertToInteractive('df-fdc7246a-af92-4505-8089-a6e65591f4c6')\"\n",
              "              title=\"Convert this dataframe to an interactive table.\"\n",
              "              style=\"display:none;\">\n",
              "        \n",
              "  <svg xmlns=\"http://www.w3.org/2000/svg\" height=\"24px\"viewBox=\"0 0 24 24\"\n",
              "       width=\"24px\">\n",
              "    <path d=\"M0 0h24v24H0V0z\" fill=\"none\"/>\n",
              "    <path d=\"M18.56 5.44l.94 2.06.94-2.06 2.06-.94-2.06-.94-.94-2.06-.94 2.06-2.06.94zm-11 1L8.5 8.5l.94-2.06 2.06-.94-2.06-.94L8.5 2.5l-.94 2.06-2.06.94zm10 10l.94 2.06.94-2.06 2.06-.94-2.06-.94-.94-2.06-.94 2.06-2.06.94z\"/><path d=\"M17.41 7.96l-1.37-1.37c-.4-.4-.92-.59-1.43-.59-.52 0-1.04.2-1.43.59L10.3 9.45l-7.72 7.72c-.78.78-.78 2.05 0 2.83L4 21.41c.39.39.9.59 1.41.59.51 0 1.02-.2 1.41-.59l7.78-7.78 2.81-2.81c.8-.78.8-2.07 0-2.86zM5.41 20L4 18.59l7.72-7.72 1.47 1.35L5.41 20z\"/>\n",
              "  </svg>\n",
              "      </button>\n",
              "      \n",
              "  <style>\n",
              "    .colab-df-container {\n",
              "      display:flex;\n",
              "      flex-wrap:wrap;\n",
              "      gap: 12px;\n",
              "    }\n",
              "\n",
              "    .colab-df-convert {\n",
              "      background-color: #E8F0FE;\n",
              "      border: none;\n",
              "      border-radius: 50%;\n",
              "      cursor: pointer;\n",
              "      display: none;\n",
              "      fill: #1967D2;\n",
              "      height: 32px;\n",
              "      padding: 0 0 0 0;\n",
              "      width: 32px;\n",
              "    }\n",
              "\n",
              "    .colab-df-convert:hover {\n",
              "      background-color: #E2EBFA;\n",
              "      box-shadow: 0px 1px 2px rgba(60, 64, 67, 0.3), 0px 1px 3px 1px rgba(60, 64, 67, 0.15);\n",
              "      fill: #174EA6;\n",
              "    }\n",
              "\n",
              "    [theme=dark] .colab-df-convert {\n",
              "      background-color: #3B4455;\n",
              "      fill: #D2E3FC;\n",
              "    }\n",
              "\n",
              "    [theme=dark] .colab-df-convert:hover {\n",
              "      background-color: #434B5C;\n",
              "      box-shadow: 0px 1px 3px 1px rgba(0, 0, 0, 0.15);\n",
              "      filter: drop-shadow(0px 1px 2px rgba(0, 0, 0, 0.3));\n",
              "      fill: #FFFFFF;\n",
              "    }\n",
              "  </style>\n",
              "\n",
              "      <script>\n",
              "        const buttonEl =\n",
              "          document.querySelector('#df-fdc7246a-af92-4505-8089-a6e65591f4c6 button.colab-df-convert');\n",
              "        buttonEl.style.display =\n",
              "          google.colab.kernel.accessAllowed ? 'block' : 'none';\n",
              "\n",
              "        async function convertToInteractive(key) {\n",
              "          const element = document.querySelector('#df-fdc7246a-af92-4505-8089-a6e65591f4c6');\n",
              "          const dataTable =\n",
              "            await google.colab.kernel.invokeFunction('convertToInteractive',\n",
              "                                                     [key], {});\n",
              "          if (!dataTable) return;\n",
              "\n",
              "          const docLinkHtml = 'Like what you see? Visit the ' +\n",
              "            '<a target=\"_blank\" href=https://colab.research.google.com/notebooks/data_table.ipynb>data table notebook</a>'\n",
              "            + ' to learn more about interactive tables.';\n",
              "          element.innerHTML = '';\n",
              "          dataTable['output_type'] = 'display_data';\n",
              "          await google.colab.output.renderOutput(dataTable, element);\n",
              "          const docLink = document.createElement('div');\n",
              "          docLink.innerHTML = docLinkHtml;\n",
              "          element.appendChild(docLink);\n",
              "        }\n",
              "      </script>\n",
              "    </div>\n",
              "  </div>\n",
              "  "
            ],
            "text/plain": [
              "                                               category  ... details\n",
              "0     [Musical Instruments, Ukuleles, Mandolins &amp...  ...     NaN\n",
              "1     [Musical Instruments, Ukuleles, Mandolins &amp...  ...      {}\n",
              "2     [Musical Instruments, Ukuleles, Mandolins & Ba...  ...      {}\n",
              "3     [Musical Instruments, Ukuleles, Mandolins & Ba...  ...      {}\n",
              "4     [Musical Instruments, Ukuleles, Mandolins &amp...  ...      {}\n",
              "...                                                 ...  ...     ...\n",
              "1662  [Musical Instruments, Ukuleles, Mandolins & Ba...  ...      {}\n",
              "1663  [Musical Instruments, Ukuleles, Mandolins & Ba...  ...      {}\n",
              "1664  [Musical Instruments, Ukuleles, Mandolins & Ba...  ...      {}\n",
              "1665  [Musical Instruments, Ukuleles, Mandolins & Ba...  ...      {}\n",
              "1666  [Musical Instruments, Ukuleles, Mandolins & Ba...  ...      {}\n",
              "\n",
              "[1667 rows x 19 columns]"
            ]
          },
          "metadata": {},
          "execution_count": 9
        }
      ],
      "source": [
        "meta_df = pd.DataFrame.from_dict(meta_data)\n",
        "meta_df"
      ]
    },
    {
      "cell_type": "code",
      "execution_count": 10,
      "metadata": {
        "colab": {
          "base_uri": "https://localhost:8080/"
        },
        "id": "FwWfCiRjzdFa",
        "outputId": "19c7d4aa-1d42-4dea-d6b0-76841ac3f6a0"
      },
      "outputs": [
        {
          "output_type": "execute_result",
          "data": {
            "text/plain": [
              "1650"
            ]
          },
          "metadata": {},
          "execution_count": 10
        }
      ],
      "source": [
        "len(set(meta_df['asin'].to_list())) # - такие id product"
      ]
    },
    {
      "cell_type": "code",
      "execution_count": 11,
      "metadata": {
        "colab": {
          "base_uri": "https://localhost:8080/"
        },
        "id": "N71wEaQqzdFc",
        "outputId": "4782d7fd-a815-4dea-d62e-7c91b7cb96b5"
      },
      "outputs": [
        {
          "output_type": "stream",
          "name": "stdout",
          "text": [
            "32337\n",
            "{'overall': 4.0, 'vote': '25', 'verified': False, 'reviewTime': '12 26, 2011', 'reviewerID': 'A14X6A879W6GEA', 'asin': '0739079891', 'reviewerName': 'Shop Around', 'reviewText': \"I hesitated at first, but nabbed the kit on a lightning deal. The uke is pretty easy to learn, even at 30 years old with little music education. The cd and dvd are easy to follow along with. I give four stars because after looking online I saw the kit wasn't that good a discounted lightning deal. Alot of cool ukes out there for the same price that I would have bought instead, but i'm still glad I bought this one with the kit for a beginner.\", 'summary': 'Nice Beginner Kit', 'unixReviewTime': 1324857600}\n"
          ]
        }
      ],
      "source": [
        "### load the data\n",
        "rew_data = []\n",
        "with gzip.open('/content/drive/MyDrive/ВШЭ/Прог-е/python-personal/4 курс/HW2_Musical_Instruments.json.gz') as f:\n",
        "    for l in f:\n",
        "        prod_rew = json.loads(l.strip())\n",
        "        if prod_rew['asin'] in set(meta_df['asin'].to_list()):\n",
        "            rew_data.append(prod_rew)\n",
        "    \n",
        "# total length of list, this number equals total number of products\n",
        "print(len(rew_data))\n",
        "\n",
        "# first row of the list\n",
        "print(rew_data[0])"
      ]
    },
    {
      "cell_type": "code",
      "source": [
        "rew_data = pd.DataFrame.from_dict(rew_data)\n",
        "rew_data"
      ],
      "metadata": {
        "colab": {
          "base_uri": "https://localhost:8080/",
          "height": 956
        },
        "id": "uUKUrZB95oxj",
        "outputId": "cab114ed-7128-4330-eb0a-a22938581114"
      },
      "execution_count": 12,
      "outputs": [
        {
          "output_type": "execute_result",
          "data": {
            "text/html": [
              "\n",
              "  <div id=\"df-2d0078f1-0c76-4384-8d4c-bf29502c18fa\">\n",
              "    <div class=\"colab-df-container\">\n",
              "      <div>\n",
              "<style scoped>\n",
              "    .dataframe tbody tr th:only-of-type {\n",
              "        vertical-align: middle;\n",
              "    }\n",
              "\n",
              "    .dataframe tbody tr th {\n",
              "        vertical-align: top;\n",
              "    }\n",
              "\n",
              "    .dataframe thead th {\n",
              "        text-align: right;\n",
              "    }\n",
              "</style>\n",
              "<table border=\"1\" class=\"dataframe\">\n",
              "  <thead>\n",
              "    <tr style=\"text-align: right;\">\n",
              "      <th></th>\n",
              "      <th>overall</th>\n",
              "      <th>vote</th>\n",
              "      <th>verified</th>\n",
              "      <th>reviewTime</th>\n",
              "      <th>reviewerID</th>\n",
              "      <th>asin</th>\n",
              "      <th>reviewerName</th>\n",
              "      <th>reviewText</th>\n",
              "      <th>summary</th>\n",
              "      <th>unixReviewTime</th>\n",
              "      <th>image</th>\n",
              "      <th>style</th>\n",
              "    </tr>\n",
              "  </thead>\n",
              "  <tbody>\n",
              "    <tr>\n",
              "      <th>0</th>\n",
              "      <td>4.0</td>\n",
              "      <td>25</td>\n",
              "      <td>False</td>\n",
              "      <td>12 26, 2011</td>\n",
              "      <td>A14X6A879W6GEA</td>\n",
              "      <td>0739079891</td>\n",
              "      <td>Shop Around</td>\n",
              "      <td>I hesitated at first, but nabbed the kit on a ...</td>\n",
              "      <td>Nice Beginner Kit</td>\n",
              "      <td>1324857600</td>\n",
              "      <td>NaN</td>\n",
              "      <td>NaN</td>\n",
              "    </tr>\n",
              "    <tr>\n",
              "      <th>1</th>\n",
              "      <td>1.0</td>\n",
              "      <td>NaN</td>\n",
              "      <td>False</td>\n",
              "      <td>01 24, 2017</td>\n",
              "      <td>A3PLX7GLR683LV</td>\n",
              "      <td>0739079891</td>\n",
              "      <td>Brian Michaud</td>\n",
              "      <td>Plain and simple...some of the frets are not p...</td>\n",
              "      <td>Doesn't play in tune - cheaply made</td>\n",
              "      <td>1485216000</td>\n",
              "      <td>NaN</td>\n",
              "      <td>NaN</td>\n",
              "    </tr>\n",
              "    <tr>\n",
              "      <th>2</th>\n",
              "      <td>5.0</td>\n",
              "      <td>NaN</td>\n",
              "      <td>True</td>\n",
              "      <td>01 10, 2017</td>\n",
              "      <td>A1PSHXL9ZSFD4X</td>\n",
              "      <td>0739079891</td>\n",
              "      <td>thomas e keller</td>\n",
              "      <td>she loved it, won't stop playing</td>\n",
              "      <td>Five Stars</td>\n",
              "      <td>1484006400</td>\n",
              "      <td>NaN</td>\n",
              "      <td>NaN</td>\n",
              "    </tr>\n",
              "    <tr>\n",
              "      <th>3</th>\n",
              "      <td>5.0</td>\n",
              "      <td>NaN</td>\n",
              "      <td>True</td>\n",
              "      <td>12 17, 2016</td>\n",
              "      <td>A253W2LUG7PJWT</td>\n",
              "      <td>0739079891</td>\n",
              "      <td>Jameson Evans</td>\n",
              "      <td>Thank you</td>\n",
              "      <td>Five Stars</td>\n",
              "      <td>1481932800</td>\n",
              "      <td>NaN</td>\n",
              "      <td>NaN</td>\n",
              "    </tr>\n",
              "    <tr>\n",
              "      <th>4</th>\n",
              "      <td>4.0</td>\n",
              "      <td>NaN</td>\n",
              "      <td>True</td>\n",
              "      <td>12 17, 2016</td>\n",
              "      <td>A23QUBH9Q4ZY84</td>\n",
              "      <td>0739079891</td>\n",
              "      <td>Trevor MacDonald</td>\n",
              "      <td>I decided that I wanted to learn to play the u...</td>\n",
              "      <td>Good and cheap for beginners</td>\n",
              "      <td>1481932800</td>\n",
              "      <td>NaN</td>\n",
              "      <td>NaN</td>\n",
              "    </tr>\n",
              "    <tr>\n",
              "      <th>...</th>\n",
              "      <td>...</td>\n",
              "      <td>...</td>\n",
              "      <td>...</td>\n",
              "      <td>...</td>\n",
              "      <td>...</td>\n",
              "      <td>...</td>\n",
              "      <td>...</td>\n",
              "      <td>...</td>\n",
              "      <td>...</td>\n",
              "      <td>...</td>\n",
              "      <td>...</td>\n",
              "      <td>...</td>\n",
              "    </tr>\n",
              "    <tr>\n",
              "      <th>32332</th>\n",
              "      <td>5.0</td>\n",
              "      <td>NaN</td>\n",
              "      <td>False</td>\n",
              "      <td>03 7, 2018</td>\n",
              "      <td>A1EPAJAGKLEARI</td>\n",
              "      <td>B01HFKFWDW</td>\n",
              "      <td>ikbennate</td>\n",
              "      <td>I got this uke as a stand alone; it sounds ama...</td>\n",
              "      <td>Beautiful sound and look.</td>\n",
              "      <td>1520380800</td>\n",
              "      <td>NaN</td>\n",
              "      <td>NaN</td>\n",
              "    </tr>\n",
              "    <tr>\n",
              "      <th>32333</th>\n",
              "      <td>3.0</td>\n",
              "      <td>NaN</td>\n",
              "      <td>True</td>\n",
              "      <td>09 13, 2017</td>\n",
              "      <td>A16CD5M7QS7IZT</td>\n",
              "      <td>B01HFKFWDW</td>\n",
              "      <td>Michael ngai</td>\n",
              "      <td>This is what I want</td>\n",
              "      <td>It's a beautiful eku</td>\n",
              "      <td>1505260800</td>\n",
              "      <td>NaN</td>\n",
              "      <td>NaN</td>\n",
              "    </tr>\n",
              "    <tr>\n",
              "      <th>32334</th>\n",
              "      <td>5.0</td>\n",
              "      <td>NaN</td>\n",
              "      <td>True</td>\n",
              "      <td>02 12, 2017</td>\n",
              "      <td>A33K2TFQLM7VVJ</td>\n",
              "      <td>B01HFKFWDW</td>\n",
              "      <td>Linda</td>\n",
              "      <td>The Kala KA-ZCT Tenor Gloss Ziricote uke sound...</td>\n",
              "      <td>Great tenor ukulele</td>\n",
              "      <td>1486857600</td>\n",
              "      <td>NaN</td>\n",
              "      <td>NaN</td>\n",
              "    </tr>\n",
              "    <tr>\n",
              "      <th>32335</th>\n",
              "      <td>4.0</td>\n",
              "      <td>NaN</td>\n",
              "      <td>True</td>\n",
              "      <td>03 17, 2017</td>\n",
              "      <td>AGGNK5AMUQ0EZ</td>\n",
              "      <td>B01HFKE7RO</td>\n",
              "      <td>kyoung</td>\n",
              "      <td>This little ukulele has a booming voice!  It t...</td>\n",
              "      <td>Looks beautiful</td>\n",
              "      <td>1489708800</td>\n",
              "      <td>NaN</td>\n",
              "      <td>NaN</td>\n",
              "    </tr>\n",
              "    <tr>\n",
              "      <th>32336</th>\n",
              "      <td>4.0</td>\n",
              "      <td>NaN</td>\n",
              "      <td>True</td>\n",
              "      <td>01 3, 2017</td>\n",
              "      <td>AN3V70Z56XT4I</td>\n",
              "      <td>B01HJD6838</td>\n",
              "      <td>erinnbabe</td>\n",
              "      <td>Thanks for a successful purchase.</td>\n",
              "      <td>Four Stars</td>\n",
              "      <td>1483401600</td>\n",
              "      <td>NaN</td>\n",
              "      <td>{'Color:': ' type1'}</td>\n",
              "    </tr>\n",
              "  </tbody>\n",
              "</table>\n",
              "<p>32337 rows × 12 columns</p>\n",
              "</div>\n",
              "      <button class=\"colab-df-convert\" onclick=\"convertToInteractive('df-2d0078f1-0c76-4384-8d4c-bf29502c18fa')\"\n",
              "              title=\"Convert this dataframe to an interactive table.\"\n",
              "              style=\"display:none;\">\n",
              "        \n",
              "  <svg xmlns=\"http://www.w3.org/2000/svg\" height=\"24px\"viewBox=\"0 0 24 24\"\n",
              "       width=\"24px\">\n",
              "    <path d=\"M0 0h24v24H0V0z\" fill=\"none\"/>\n",
              "    <path d=\"M18.56 5.44l.94 2.06.94-2.06 2.06-.94-2.06-.94-.94-2.06-.94 2.06-2.06.94zm-11 1L8.5 8.5l.94-2.06 2.06-.94-2.06-.94L8.5 2.5l-.94 2.06-2.06.94zm10 10l.94 2.06.94-2.06 2.06-.94-2.06-.94-.94-2.06-.94 2.06-2.06.94z\"/><path d=\"M17.41 7.96l-1.37-1.37c-.4-.4-.92-.59-1.43-.59-.52 0-1.04.2-1.43.59L10.3 9.45l-7.72 7.72c-.78.78-.78 2.05 0 2.83L4 21.41c.39.39.9.59 1.41.59.51 0 1.02-.2 1.41-.59l7.78-7.78 2.81-2.81c.8-.78.8-2.07 0-2.86zM5.41 20L4 18.59l7.72-7.72 1.47 1.35L5.41 20z\"/>\n",
              "  </svg>\n",
              "      </button>\n",
              "      \n",
              "  <style>\n",
              "    .colab-df-container {\n",
              "      display:flex;\n",
              "      flex-wrap:wrap;\n",
              "      gap: 12px;\n",
              "    }\n",
              "\n",
              "    .colab-df-convert {\n",
              "      background-color: #E8F0FE;\n",
              "      border: none;\n",
              "      border-radius: 50%;\n",
              "      cursor: pointer;\n",
              "      display: none;\n",
              "      fill: #1967D2;\n",
              "      height: 32px;\n",
              "      padding: 0 0 0 0;\n",
              "      width: 32px;\n",
              "    }\n",
              "\n",
              "    .colab-df-convert:hover {\n",
              "      background-color: #E2EBFA;\n",
              "      box-shadow: 0px 1px 2px rgba(60, 64, 67, 0.3), 0px 1px 3px 1px rgba(60, 64, 67, 0.15);\n",
              "      fill: #174EA6;\n",
              "    }\n",
              "\n",
              "    [theme=dark] .colab-df-convert {\n",
              "      background-color: #3B4455;\n",
              "      fill: #D2E3FC;\n",
              "    }\n",
              "\n",
              "    [theme=dark] .colab-df-convert:hover {\n",
              "      background-color: #434B5C;\n",
              "      box-shadow: 0px 1px 3px 1px rgba(0, 0, 0, 0.15);\n",
              "      filter: drop-shadow(0px 1px 2px rgba(0, 0, 0, 0.3));\n",
              "      fill: #FFFFFF;\n",
              "    }\n",
              "  </style>\n",
              "\n",
              "      <script>\n",
              "        const buttonEl =\n",
              "          document.querySelector('#df-2d0078f1-0c76-4384-8d4c-bf29502c18fa button.colab-df-convert');\n",
              "        buttonEl.style.display =\n",
              "          google.colab.kernel.accessAllowed ? 'block' : 'none';\n",
              "\n",
              "        async function convertToInteractive(key) {\n",
              "          const element = document.querySelector('#df-2d0078f1-0c76-4384-8d4c-bf29502c18fa');\n",
              "          const dataTable =\n",
              "            await google.colab.kernel.invokeFunction('convertToInteractive',\n",
              "                                                     [key], {});\n",
              "          if (!dataTable) return;\n",
              "\n",
              "          const docLinkHtml = 'Like what you see? Visit the ' +\n",
              "            '<a target=\"_blank\" href=https://colab.research.google.com/notebooks/data_table.ipynb>data table notebook</a>'\n",
              "            + ' to learn more about interactive tables.';\n",
              "          element.innerHTML = '';\n",
              "          dataTable['output_type'] = 'display_data';\n",
              "          await google.colab.output.renderOutput(dataTable, element);\n",
              "          const docLink = document.createElement('div');\n",
              "          docLink.innerHTML = docLinkHtml;\n",
              "          element.appendChild(docLink);\n",
              "        }\n",
              "      </script>\n",
              "    </div>\n",
              "  </div>\n",
              "  "
            ],
            "text/plain": [
              "       overall vote  verified  ... unixReviewTime image                 style\n",
              "0          4.0   25     False  ...     1324857600   NaN                   NaN\n",
              "1          1.0  NaN     False  ...     1485216000   NaN                   NaN\n",
              "2          5.0  NaN      True  ...     1484006400   NaN                   NaN\n",
              "3          5.0  NaN      True  ...     1481932800   NaN                   NaN\n",
              "4          4.0  NaN      True  ...     1481932800   NaN                   NaN\n",
              "...        ...  ...       ...  ...            ...   ...                   ...\n",
              "32332      5.0  NaN     False  ...     1520380800   NaN                   NaN\n",
              "32333      3.0  NaN      True  ...     1505260800   NaN                   NaN\n",
              "32334      5.0  NaN      True  ...     1486857600   NaN                   NaN\n",
              "32335      4.0  NaN      True  ...     1489708800   NaN                   NaN\n",
              "32336      4.0  NaN      True  ...     1483401600   NaN  {'Color:': ' type1'}\n",
              "\n",
              "[32337 rows x 12 columns]"
            ]
          },
          "metadata": {},
          "execution_count": 12
        }
      ]
    },
    {
      "cell_type": "markdown",
      "source": [
        "# Составляем словарь сущностей и характеристик\n",
        "У слова укулеле не так много синонимов. Посмотрим глазами, как их обычно называют."
      ],
      "metadata": {
        "id": "uV7ioun97TMV"
      }
    },
    {
      "cell_type": "code",
      "source": [
        "#rew_data[['reviewText',\t'summary']][:100]"
      ],
      "metadata": {
        "id": "2MN4Ky3c-teV"
      },
      "execution_count": 9,
      "outputs": []
    },
    {
      "cell_type": "code",
      "source": [
        "meta_df[['brand', 'title', 'feature', 'description', 'category']][:100]"
      ],
      "metadata": {
        "colab": {
          "base_uri": "https://localhost:8080/",
          "height": 658
        },
        "id": "ceMO9aHr9K1x",
        "outputId": "b3dd13e4-2caf-45ef-be20-dbc192aae001"
      },
      "execution_count": 13,
      "outputs": [
        {
          "output_type": "execute_result",
          "data": {
            "text/html": [
              "\n",
              "  <div id=\"df-769a2fb3-d967-4f3a-8787-7cdd28223f20\">\n",
              "    <div class=\"colab-df-container\">\n",
              "      <div>\n",
              "<style scoped>\n",
              "    .dataframe tbody tr th:only-of-type {\n",
              "        vertical-align: middle;\n",
              "    }\n",
              "\n",
              "    .dataframe tbody tr th {\n",
              "        vertical-align: top;\n",
              "    }\n",
              "\n",
              "    .dataframe thead th {\n",
              "        text-align: right;\n",
              "    }\n",
              "</style>\n",
              "<table border=\"1\" class=\"dataframe\">\n",
              "  <thead>\n",
              "    <tr style=\"text-align: right;\">\n",
              "      <th></th>\n",
              "      <th>brand</th>\n",
              "      <th>title</th>\n",
              "      <th>feature</th>\n",
              "      <th>description</th>\n",
              "      <th>category</th>\n",
              "    </tr>\n",
              "  </thead>\n",
              "  <tbody>\n",
              "    <tr>\n",
              "      <th>0</th>\n",
              "      <td>Alfred Music Publishing</td>\n",
              "      <td>Alfreds Teach Yourself to Play Ukulele, Comple...</td>\n",
              "      <td>[High-quality Firebrand wood soprano ukulele w...</td>\n",
              "      <td>[From Alfred Music, the worldwide leader in mu...</td>\n",
              "      <td>[Musical Instruments, Ukuleles, Mandolins &amp;amp...</td>\n",
              "    </tr>\n",
              "    <tr>\n",
              "      <th>1</th>\n",
              "      <td>Lanikai</td>\n",
              "      <td>Hohner HU-212 Standard Ukulele Nato Fretboard</td>\n",
              "      <td>[Nato top, back, sides, and neck, 12 frets and...</td>\n",
              "      <td>[The ukelele has been responsible for launchin...</td>\n",
              "      <td>[Musical Instruments, Ukuleles, Mandolins &amp;amp...</td>\n",
              "    </tr>\n",
              "    <tr>\n",
              "      <th>2</th>\n",
              "      <td>Samick</td>\n",
              "      <td>Samick UK-50 Tenor Concert-size Ukulele</td>\n",
              "      <td>[Samick UK-50 Tenor Concert-size Ukulele]</td>\n",
              "      <td>[The Uke has a nato top, back and sides... wit...</td>\n",
              "      <td>[Musical Instruments, Ukuleles, Mandolins &amp; Ba...</td>\n",
              "    </tr>\n",
              "    <tr>\n",
              "      <th>3</th>\n",
              "      <td></td>\n",
              "      <td>Rogue Baritone Ukulele</td>\n",
              "      <td>[White wood body, Geared tuners, It has 18 fre...</td>\n",
              "      <td>[Rogue Baritone Ukulele: The Rogue Baritone Uk...</td>\n",
              "      <td>[Musical Instruments, Ukuleles, Mandolins &amp; Ba...</td>\n",
              "    </tr>\n",
              "    <tr>\n",
              "      <th>4</th>\n",
              "      <td>Johnson</td>\n",
              "      <td>Johnson Hawaiian Soprano Ukulele</td>\n",
              "      <td>[Mahogany Body, Champion-Style Friction Pegs, ...</td>\n",
              "      <td>[Johnson ukuleles are superbly built from fine...</td>\n",
              "      <td>[Musical Instruments, Ukuleles, Mandolins &amp;amp...</td>\n",
              "    </tr>\n",
              "    <tr>\n",
              "      <th>...</th>\n",
              "      <td>...</td>\n",
              "      <td>...</td>\n",
              "      <td>...</td>\n",
              "      <td>...</td>\n",
              "      <td>...</td>\n",
              "    </tr>\n",
              "    <tr>\n",
              "      <th>95</th>\n",
              "      <td>Kohala</td>\n",
              "      <td>Kohala Soprano Ukulele</td>\n",
              "      <td>[Soprano Size, 12 Frets, One Year Warranty, Ea...</td>\n",
              "      <td>[This is da KineO uke you take if youre going ...</td>\n",
              "      <td>[Musical Instruments, Ukuleles, Mandolins &amp; Ba...</td>\n",
              "    </tr>\n",
              "    <tr>\n",
              "      <th>96</th>\n",
              "      <td>Oscar Schmidt</td>\n",
              "      <td>Oscar Schmidt UB1 Soprano Ukulele Gig Bag, Black</td>\n",
              "      <td>[The durable Oscar Schmidt UB1 Soprano Ukulele...</td>\n",
              "      <td>[Uke Soprano Bag]</td>\n",
              "      <td>[Musical Instruments, Ukuleles, Mandolins &amp; Ba...</td>\n",
              "    </tr>\n",
              "    <tr>\n",
              "      <th>97</th>\n",
              "      <td>Lanikai</td>\n",
              "      <td>Lanikai LU-6 6 String Tenor Ukulele</td>\n",
              "      <td>[Tenor Sized 6 String Ukulele, 18 Frets, Easy ...</td>\n",
              "      <td>[The LU-6 6 String Tenor Ukulele is a favorite...</td>\n",
              "      <td>[Musical Instruments, Ukuleles, Mandolins &amp; Ba...</td>\n",
              "    </tr>\n",
              "    <tr>\n",
              "      <th>98</th>\n",
              "      <td>Lanikai</td>\n",
              "      <td>Lanikai LU-21B Baritone Ukulele</td>\n",
              "      <td>[Baritone Sized, 18 Frets, Easy Playablity, Di...</td>\n",
              "      <td>[The Lu-21B is the best selling Baritone Ukule...</td>\n",
              "      <td>[Musical Instruments, Ukuleles, Mandolins &amp; Ba...</td>\n",
              "    </tr>\n",
              "    <tr>\n",
              "      <th>99</th>\n",
              "      <td>Lanikai</td>\n",
              "      <td>Lanikai LU-21P Pineapple Soprano Ukulele</td>\n",
              "      <td>[Soprano Size, 12 Frets, Pineapple Shaped, Eas...</td>\n",
              "      <td>[The LU-21P Pineapple Soprano Ukulele is a fav...</td>\n",
              "      <td>[Musical Instruments, Ukuleles, Mandolins &amp; Ba...</td>\n",
              "    </tr>\n",
              "  </tbody>\n",
              "</table>\n",
              "<p>100 rows × 5 columns</p>\n",
              "</div>\n",
              "      <button class=\"colab-df-convert\" onclick=\"convertToInteractive('df-769a2fb3-d967-4f3a-8787-7cdd28223f20')\"\n",
              "              title=\"Convert this dataframe to an interactive table.\"\n",
              "              style=\"display:none;\">\n",
              "        \n",
              "  <svg xmlns=\"http://www.w3.org/2000/svg\" height=\"24px\"viewBox=\"0 0 24 24\"\n",
              "       width=\"24px\">\n",
              "    <path d=\"M0 0h24v24H0V0z\" fill=\"none\"/>\n",
              "    <path d=\"M18.56 5.44l.94 2.06.94-2.06 2.06-.94-2.06-.94-.94-2.06-.94 2.06-2.06.94zm-11 1L8.5 8.5l.94-2.06 2.06-.94-2.06-.94L8.5 2.5l-.94 2.06-2.06.94zm10 10l.94 2.06.94-2.06 2.06-.94-2.06-.94-.94-2.06-.94 2.06-2.06.94z\"/><path d=\"M17.41 7.96l-1.37-1.37c-.4-.4-.92-.59-1.43-.59-.52 0-1.04.2-1.43.59L10.3 9.45l-7.72 7.72c-.78.78-.78 2.05 0 2.83L4 21.41c.39.39.9.59 1.41.59.51 0 1.02-.2 1.41-.59l7.78-7.78 2.81-2.81c.8-.78.8-2.07 0-2.86zM5.41 20L4 18.59l7.72-7.72 1.47 1.35L5.41 20z\"/>\n",
              "  </svg>\n",
              "      </button>\n",
              "      \n",
              "  <style>\n",
              "    .colab-df-container {\n",
              "      display:flex;\n",
              "      flex-wrap:wrap;\n",
              "      gap: 12px;\n",
              "    }\n",
              "\n",
              "    .colab-df-convert {\n",
              "      background-color: #E8F0FE;\n",
              "      border: none;\n",
              "      border-radius: 50%;\n",
              "      cursor: pointer;\n",
              "      display: none;\n",
              "      fill: #1967D2;\n",
              "      height: 32px;\n",
              "      padding: 0 0 0 0;\n",
              "      width: 32px;\n",
              "    }\n",
              "\n",
              "    .colab-df-convert:hover {\n",
              "      background-color: #E2EBFA;\n",
              "      box-shadow: 0px 1px 2px rgba(60, 64, 67, 0.3), 0px 1px 3px 1px rgba(60, 64, 67, 0.15);\n",
              "      fill: #174EA6;\n",
              "    }\n",
              "\n",
              "    [theme=dark] .colab-df-convert {\n",
              "      background-color: #3B4455;\n",
              "      fill: #D2E3FC;\n",
              "    }\n",
              "\n",
              "    [theme=dark] .colab-df-convert:hover {\n",
              "      background-color: #434B5C;\n",
              "      box-shadow: 0px 1px 3px 1px rgba(0, 0, 0, 0.15);\n",
              "      filter: drop-shadow(0px 1px 2px rgba(0, 0, 0, 0.3));\n",
              "      fill: #FFFFFF;\n",
              "    }\n",
              "  </style>\n",
              "\n",
              "      <script>\n",
              "        const buttonEl =\n",
              "          document.querySelector('#df-769a2fb3-d967-4f3a-8787-7cdd28223f20 button.colab-df-convert');\n",
              "        buttonEl.style.display =\n",
              "          google.colab.kernel.accessAllowed ? 'block' : 'none';\n",
              "\n",
              "        async function convertToInteractive(key) {\n",
              "          const element = document.querySelector('#df-769a2fb3-d967-4f3a-8787-7cdd28223f20');\n",
              "          const dataTable =\n",
              "            await google.colab.kernel.invokeFunction('convertToInteractive',\n",
              "                                                     [key], {});\n",
              "          if (!dataTable) return;\n",
              "\n",
              "          const docLinkHtml = 'Like what you see? Visit the ' +\n",
              "            '<a target=\"_blank\" href=https://colab.research.google.com/notebooks/data_table.ipynb>data table notebook</a>'\n",
              "            + ' to learn more about interactive tables.';\n",
              "          element.innerHTML = '';\n",
              "          dataTable['output_type'] = 'display_data';\n",
              "          await google.colab.output.renderOutput(dataTable, element);\n",
              "          const docLink = document.createElement('div');\n",
              "          docLink.innerHTML = docLinkHtml;\n",
              "          element.appendChild(docLink);\n",
              "        }\n",
              "      </script>\n",
              "    </div>\n",
              "  </div>\n",
              "  "
            ],
            "text/plain": [
              "                      brand  ...                                           category\n",
              "0   Alfred Music Publishing  ...  [Musical Instruments, Ukuleles, Mandolins &amp...\n",
              "1                   Lanikai  ...  [Musical Instruments, Ukuleles, Mandolins &amp...\n",
              "2                    Samick  ...  [Musical Instruments, Ukuleles, Mandolins & Ba...\n",
              "3                            ...  [Musical Instruments, Ukuleles, Mandolins & Ba...\n",
              "4                   Johnson  ...  [Musical Instruments, Ukuleles, Mandolins &amp...\n",
              "..                      ...  ...                                                ...\n",
              "95                   Kohala  ...  [Musical Instruments, Ukuleles, Mandolins & Ba...\n",
              "96            Oscar Schmidt  ...  [Musical Instruments, Ukuleles, Mandolins & Ba...\n",
              "97                  Lanikai  ...  [Musical Instruments, Ukuleles, Mandolins & Ba...\n",
              "98                  Lanikai  ...  [Musical Instruments, Ukuleles, Mandolins & Ba...\n",
              "99                  Lanikai  ...  [Musical Instruments, Ukuleles, Mandolins & Ba...\n",
              "\n",
              "[100 rows x 5 columns]"
            ]
          },
          "metadata": {},
          "execution_count": 13
        }
      ]
    },
    {
      "cell_type": "code",
      "source": [
        "brands = list(set(meta_df['brand'].to_list()))\n",
        "# Добавим части брендовых названиий без \"укулеле\", \"гитары\". Вручную быстрее.\n",
        "brands.extend(['Bill Tapia', 'BugsGear', 'Dean', 'Godin', 'Hawaiian Resonator',\n",
        "              'Islander', 'Kona', 'LANIKAI PRO CUSTOM TENOR', 'Liyra Handcrafted',\n",
        "              'Liyra', 'Luna', 'Moku', 'Myers', 'Naneki', 'Oriolo', 'Ortega', 'Outdoor',\n",
        "              'Pono', 'Pukanala', 'Stone Case', 'Toy', 'ChillChill', 'Woods', 'mLaval'])"
      ],
      "metadata": {
        "id": "q8daqCcMECGS"
      },
      "execution_count": 14,
      "outputs": []
    },
    {
      "cell_type": "code",
      "source": [
        "uknames = ['ukulele', 'ukuleles', 'uke', 'ukes', 'eku', 'ekus' 'instrument', 'it', 'Ukulele', 'Ukuleles', 'Uke', 'Ukes']\n",
        "nabornames = ['it', 'kit', 'kits']\n",
        "# Добавим из википедии типов укулеле https://en.wikipedia.org/wiki/Ukulele.\n",
        "# Почти все (будем думать, что все) могут сочетаться со списком uknames, а могут упоминанться отдельно.\n",
        "wiki_uktypes = ['pocket', 'piccolo', 'sopranino', 'sopranissimo',\n",
        "             'soprano', 'standard',\n",
        "             'concert', 'alto',\n",
        "             'tenor', 'taro patch', 'liliu',\n",
        "             'baritone', 'bari', 'bari uke', 'taropatch',\n",
        "             'bass', 'U-Bass', 'Rumbler',\n",
        "             'lute', 'string']\n",
        "# Добавим слова с сайта синонимов\n",
        "uknames.extend(['cavaquinho', 'machete', 'rajão', 'cavaco', 'cavacolele', 'timple', 'small guitar'])"
      ],
      "metadata": {
        "id": "qIzdl59_5VKE"
      },
      "execution_count": 15,
      "outputs": []
    },
    {
      "cell_type": "code",
      "source": [
        "ukfeatures = []\n",
        "usual_posfeatures = ['NOUN', 'ADJ', 'PROPN', 'NUM']\n",
        "\n",
        "for index, row in meta_df.iterrows():\n",
        "    if 'kulele' in '. '.join(row['feature']):\n",
        "        doc = nlp('. '.join(row['feature']))\n",
        "        for tok_id in range(len(doc)):\n",
        "            if doc[tok_id].lemma_ in uknames:\n",
        "                try:\n",
        "                    if doc[tok_id-1].pos_ in usual_posfeatures:\n",
        "                        if doc[tok_id-2].pos_ in usual_posfeatures or doc[tok_id-2].text == '-':\n",
        "                            if doc[tok_id-3].pos_ in usual_posfeatures or doc[tok_id-3].text == '-':\n",
        "                                if doc[tok_id-4].pos_ in usual_posfeatures or doc[tok_id-4].text == '-':\n",
        "                                    if doc[tok_id-5].pos_ in usual_posfeatures or doc[tok_id-5].text == '-':\n",
        "                                        if doc[tok_id-6].pos_ in usual_posfeatures:\n",
        "                                            ukfeatures.append(doc[tok_id-6:tok_id].text)\n",
        "                                        else:\n",
        "                                            ukfeatures.append(doc[tok_id-5:tok_id].text)\n",
        "                                    else:\n",
        "                                        ukfeatures.append(doc[tok_id-4:tok_id].text)\n",
        "                                else:\n",
        "                                    ukfeatures.append(doc[tok_id-3:tok_id].text)\n",
        "                            else:\n",
        "                                ukfeatures.append(doc[tok_id-2:tok_id].text)\n",
        "                        else:\n",
        "                            ukfeatures.append(doc[tok_id-1].text)\n",
        "                except Exception:\n",
        "                    answer = 'Там нет слова'\n",
        "\n",
        "print(len(ukfeatures))\n",
        "ukfeatures_set = set(ukfeatures)\n",
        "print(len(ukfeatures_set))"
      ],
      "metadata": {
        "colab": {
          "base_uri": "https://localhost:8080/"
        },
        "id": "e5mSYGyr4RRR",
        "outputId": "65fae356-bc91-405f-ff76-5e2882fca141"
      },
      "execution_count": 16,
      "outputs": [
        {
          "output_type": "stream",
          "name": "stdout",
          "text": [
            "852\n",
            "388\n"
          ]
        }
      ]
    },
    {
      "cell_type": "code",
      "source": [
        "ukfeatures_form_titles = []\n",
        "usual_posfeatures = ['NOUN', 'ADJ', 'PROPN', 'NUM']\n",
        "\n",
        "for index, row in meta_df.iterrows():\n",
        "    if 'kulele' in row['title']:\n",
        "        doc = nlp(row['title'])\n",
        "        for tok_id in range(len(doc)):\n",
        "            if doc[tok_id].lemma_ in uknames:\n",
        "                try:\n",
        "                    if doc[tok_id-1].pos_ in usual_posfeatures:\n",
        "                        if doc[tok_id-2].pos_ in usual_posfeatures or doc[tok_id-2].text == '-':\n",
        "                            if doc[tok_id-3].pos_ in usual_posfeatures or doc[tok_id-3].text == '-':\n",
        "                                if doc[tok_id-4].pos_ in usual_posfeatures or doc[tok_id-4].text == '-':\n",
        "                                    if doc[tok_id-5].pos_ in usual_posfeatures or doc[tok_id-5].text == '-':\n",
        "                                        if doc[tok_id-6].pos_ in usual_posfeatures:\n",
        "                                            ukfeatures_form_titles.append(doc[tok_id-6:tok_id].text)\n",
        "                                        else:\n",
        "                                            ukfeatures_form_titles.append(doc[tok_id-5:tok_id].text)\n",
        "                                    else:\n",
        "                                        ukfeatures_form_titles.append(doc[tok_id-4:tok_id].text)\n",
        "                                else:\n",
        "                                    ukfeatures_form_titles.append(doc[tok_id-3:tok_id].text)\n",
        "                            else:\n",
        "                                ukfeatures_form_titles.append(doc[tok_id-2:tok_id].text)\n",
        "                        else:\n",
        "                            ukfeatures_form_titles.append(doc[tok_id-1].text)\n",
        "                except Exception:\n",
        "                    answer = 'Там нет слова'\n",
        "\n",
        "print(len(ukfeatures_form_titles))\n",
        "ukfeatures_form_titles_set = set(ukfeatures_form_titles)\n",
        "print(len(ukfeatures_form_titles_set))"
      ],
      "metadata": {
        "colab": {
          "base_uri": "https://localhost:8080/"
        },
        "id": "v2cfSAY_mIni",
        "outputId": "4a875692-d153-4057-a11c-d1253a11ff3d"
      },
      "execution_count": 17,
      "outputs": [
        {
          "output_type": "stream",
          "name": "stdout",
          "text": [
            "1630\n",
            "821\n"
          ]
        }
      ]
    },
    {
      "cell_type": "code",
      "source": [
        "ukfeatures_set.update(ukfeatures_form_titles_set)\n",
        "print(len(ukfeatures_set))"
      ],
      "metadata": {
        "colab": {
          "base_uri": "https://localhost:8080/"
        },
        "id": "BGqLoFcJm_-M",
        "outputId": "f55ab985-9d73-487b-f588-9f6df95c0e96"
      },
      "execution_count": 18,
      "outputs": [
        {
          "output_type": "stream",
          "name": "stdout",
          "text": [
            "1158\n"
          ]
        }
      ]
    },
    {
      "cell_type": "code",
      "source": [
        "ukfeatures = list(ukfeatures_set)\n",
        "ukfeatures.sort()\n",
        "#ukfeatures"
      ],
      "metadata": {
        "id": "LmldCcjvqaxE"
      },
      "execution_count": 19,
      "outputs": []
    },
    {
      "cell_type": "markdown",
      "source": [
        "Можно было бы использовать все наработки (+ поработать с леммами и регистром), но ограничимся малым.\n",
        "# Выделяем сущности в отзывах\n",
        "Делаем это примерно так, как выделяли features.\n",
        "\n",
        "BIO формат - хорошо, но мы просто для каждого отзыва в отдельной колонке пропишем, какие упоминания встретились в отзыве.\n",
        "\n",
        "'# Комментарий. Да, я понимаю, что код нельзя назвать красивым, но сейчас важно, чтоб он работал. "
      ],
      "metadata": {
        "id": "Adq1T6QpXT4f"
      }
    },
    {
      "cell_type": "code",
      "source": [
        "rew_data['UkMentions'] = \"\""
      ],
      "metadata": {
        "id": "CaYaD_4dtKT9"
      },
      "execution_count": 20,
      "outputs": []
    },
    {
      "cell_type": "code",
      "source": [
        "usual_posfeatures = ['NOUN', 'ADJ', 'PROPN', 'NUM']\n",
        "\n",
        "for index, row in rew_data.iterrows():\n",
        "    ukmentions = []\n",
        "    doc = nlp(str(row['reviewText']))\n",
        "    for tok_id in range(len(doc)):\n",
        "        if doc[tok_id].lemma_ in uknames:\n",
        "            try:\n",
        "                if doc[tok_id-1].pos_ in usual_posfeatures:\n",
        "                    if doc[tok_id-2].pos_ in usual_posfeatures or doc[tok_id-2].text == '-':\n",
        "                        if doc[tok_id-3].pos_ in usual_posfeatures or doc[tok_id-3].text == '-':\n",
        "                            if doc[tok_id-4].pos_ in usual_posfeatures or doc[tok_id-4].text == '-':\n",
        "                                if doc[tok_id-5].pos_ in usual_posfeatures or doc[tok_id-5].text == '-':\n",
        "                                    if doc[tok_id-6].pos_ in usual_posfeatures:\n",
        "                                        ukmentions.append(doc[tok_id-6:tok_id+1].text)\n",
        "                                    else:\n",
        "                                        ukmentions.append(doc[tok_id-5:tok_id+1].text)\n",
        "                                else:\n",
        "                                    ukmentions.append(doc[tok_id-4:tok_id+1].text)\n",
        "                            else:\n",
        "                                ukmentions.append(doc[tok_id-3:tok_id+1].text)\n",
        "                        else:\n",
        "                            ukmentions.append(doc[tok_id-2:tok_id+1].text)\n",
        "                    else:\n",
        "                        ukmentions.append(doc[tok_id-1:tok_id+1].text)\n",
        "                else:\n",
        "                    ukmentions.append(doc[tok_id].text)\n",
        "            except Exception:\n",
        "                answer = 'Там нет слова'\n",
        "    rew_data['UkMentions'][index] = ukmentions"
      ],
      "metadata": {
        "colab": {
          "base_uri": "https://localhost:8080/"
        },
        "id": "PVIb_HS7XTIs",
        "outputId": "82100e7b-ca15-467e-f508-a10fab906d18"
      },
      "execution_count": 27,
      "outputs": [
        {
          "output_type": "stream",
          "name": "stderr",
          "text": [
            "/usr/local/lib/python3.7/dist-packages/ipykernel_launcher.py:30: SettingWithCopyWarning: \n",
            "A value is trying to be set on a copy of a slice from a DataFrame\n",
            "\n",
            "See the caveats in the documentation: https://pandas.pydata.org/pandas-docs/stable/user_guide/indexing.html#returning-a-view-versus-a-copy\n"
          ]
        }
      ]
    },
    {
      "cell_type": "code",
      "source": [
        "rew_data[['reviewText', 'UkMentions']]"
      ],
      "metadata": {
        "colab": {
          "base_uri": "https://localhost:8080/",
          "height": 423
        },
        "id": "GpDfd-yr-MX1",
        "outputId": "3266cb93-60d9-4f87-e7ae-75f67b97e789"
      },
      "execution_count": 28,
      "outputs": [
        {
          "output_type": "execute_result",
          "data": {
            "text/html": [
              "\n",
              "  <div id=\"df-b52db200-7e74-4686-90cb-c4b19eccd67b\">\n",
              "    <div class=\"colab-df-container\">\n",
              "      <div>\n",
              "<style scoped>\n",
              "    .dataframe tbody tr th:only-of-type {\n",
              "        vertical-align: middle;\n",
              "    }\n",
              "\n",
              "    .dataframe tbody tr th {\n",
              "        vertical-align: top;\n",
              "    }\n",
              "\n",
              "    .dataframe thead th {\n",
              "        text-align: right;\n",
              "    }\n",
              "</style>\n",
              "<table border=\"1\" class=\"dataframe\">\n",
              "  <thead>\n",
              "    <tr style=\"text-align: right;\">\n",
              "      <th></th>\n",
              "      <th>reviewText</th>\n",
              "      <th>UkMentions</th>\n",
              "    </tr>\n",
              "  </thead>\n",
              "  <tbody>\n",
              "    <tr>\n",
              "      <th>0</th>\n",
              "      <td>I hesitated at first, but nabbed the kit on a ...</td>\n",
              "      <td>[uke, cool ukes]</td>\n",
              "    </tr>\n",
              "    <tr>\n",
              "      <th>1</th>\n",
              "      <td>Plain and simple...some of the frets are not p...</td>\n",
              "      <td>[uke]</td>\n",
              "    </tr>\n",
              "    <tr>\n",
              "      <th>2</th>\n",
              "      <td>she loved it, won't stop playing</td>\n",
              "      <td>[it]</td>\n",
              "    </tr>\n",
              "    <tr>\n",
              "      <th>3</th>\n",
              "      <td>Thank you</td>\n",
              "      <td>[]</td>\n",
              "    </tr>\n",
              "    <tr>\n",
              "      <th>4</th>\n",
              "      <td>I decided that I wanted to learn to play the u...</td>\n",
              "      <td>[ukulele, first ukulele, it, It, best ukulele]</td>\n",
              "    </tr>\n",
              "    <tr>\n",
              "      <th>...</th>\n",
              "      <td>...</td>\n",
              "      <td>...</td>\n",
              "    </tr>\n",
              "    <tr>\n",
              "      <th>32332</th>\n",
              "      <td>I got this uke as a stand alone; it sounds ama...</td>\n",
              "      <td>[uke, it]</td>\n",
              "    </tr>\n",
              "    <tr>\n",
              "      <th>32333</th>\n",
              "      <td>This is what I want</td>\n",
              "      <td>[]</td>\n",
              "    </tr>\n",
              "    <tr>\n",
              "      <th>32334</th>\n",
              "      <td>The Kala KA-ZCT Tenor Gloss Ziricote uke sound...</td>\n",
              "      <td>[KA-ZCT Tenor Gloss Ziricote uke, It, ukulele,...</td>\n",
              "    </tr>\n",
              "    <tr>\n",
              "      <th>32335</th>\n",
              "      <td>This little ukulele has a booming voice!  It t...</td>\n",
              "      <td>[little ukulele, It, it, it, It, beautiful uku...</td>\n",
              "    </tr>\n",
              "    <tr>\n",
              "      <th>32336</th>\n",
              "      <td>Thanks for a successful purchase.</td>\n",
              "      <td>[]</td>\n",
              "    </tr>\n",
              "  </tbody>\n",
              "</table>\n",
              "<p>32337 rows × 2 columns</p>\n",
              "</div>\n",
              "      <button class=\"colab-df-convert\" onclick=\"convertToInteractive('df-b52db200-7e74-4686-90cb-c4b19eccd67b')\"\n",
              "              title=\"Convert this dataframe to an interactive table.\"\n",
              "              style=\"display:none;\">\n",
              "        \n",
              "  <svg xmlns=\"http://www.w3.org/2000/svg\" height=\"24px\"viewBox=\"0 0 24 24\"\n",
              "       width=\"24px\">\n",
              "    <path d=\"M0 0h24v24H0V0z\" fill=\"none\"/>\n",
              "    <path d=\"M18.56 5.44l.94 2.06.94-2.06 2.06-.94-2.06-.94-.94-2.06-.94 2.06-2.06.94zm-11 1L8.5 8.5l.94-2.06 2.06-.94-2.06-.94L8.5 2.5l-.94 2.06-2.06.94zm10 10l.94 2.06.94-2.06 2.06-.94-2.06-.94-.94-2.06-.94 2.06-2.06.94z\"/><path d=\"M17.41 7.96l-1.37-1.37c-.4-.4-.92-.59-1.43-.59-.52 0-1.04.2-1.43.59L10.3 9.45l-7.72 7.72c-.78.78-.78 2.05 0 2.83L4 21.41c.39.39.9.59 1.41.59.51 0 1.02-.2 1.41-.59l7.78-7.78 2.81-2.81c.8-.78.8-2.07 0-2.86zM5.41 20L4 18.59l7.72-7.72 1.47 1.35L5.41 20z\"/>\n",
              "  </svg>\n",
              "      </button>\n",
              "      \n",
              "  <style>\n",
              "    .colab-df-container {\n",
              "      display:flex;\n",
              "      flex-wrap:wrap;\n",
              "      gap: 12px;\n",
              "    }\n",
              "\n",
              "    .colab-df-convert {\n",
              "      background-color: #E8F0FE;\n",
              "      border: none;\n",
              "      border-radius: 50%;\n",
              "      cursor: pointer;\n",
              "      display: none;\n",
              "      fill: #1967D2;\n",
              "      height: 32px;\n",
              "      padding: 0 0 0 0;\n",
              "      width: 32px;\n",
              "    }\n",
              "\n",
              "    .colab-df-convert:hover {\n",
              "      background-color: #E2EBFA;\n",
              "      box-shadow: 0px 1px 2px rgba(60, 64, 67, 0.3), 0px 1px 3px 1px rgba(60, 64, 67, 0.15);\n",
              "      fill: #174EA6;\n",
              "    }\n",
              "\n",
              "    [theme=dark] .colab-df-convert {\n",
              "      background-color: #3B4455;\n",
              "      fill: #D2E3FC;\n",
              "    }\n",
              "\n",
              "    [theme=dark] .colab-df-convert:hover {\n",
              "      background-color: #434B5C;\n",
              "      box-shadow: 0px 1px 3px 1px rgba(0, 0, 0, 0.15);\n",
              "      filter: drop-shadow(0px 1px 2px rgba(0, 0, 0, 0.3));\n",
              "      fill: #FFFFFF;\n",
              "    }\n",
              "  </style>\n",
              "\n",
              "      <script>\n",
              "        const buttonEl =\n",
              "          document.querySelector('#df-b52db200-7e74-4686-90cb-c4b19eccd67b button.colab-df-convert');\n",
              "        buttonEl.style.display =\n",
              "          google.colab.kernel.accessAllowed ? 'block' : 'none';\n",
              "\n",
              "        async function convertToInteractive(key) {\n",
              "          const element = document.querySelector('#df-b52db200-7e74-4686-90cb-c4b19eccd67b');\n",
              "          const dataTable =\n",
              "            await google.colab.kernel.invokeFunction('convertToInteractive',\n",
              "                                                     [key], {});\n",
              "          if (!dataTable) return;\n",
              "\n",
              "          const docLinkHtml = 'Like what you see? Visit the ' +\n",
              "            '<a target=\"_blank\" href=https://colab.research.google.com/notebooks/data_table.ipynb>data table notebook</a>'\n",
              "            + ' to learn more about interactive tables.';\n",
              "          element.innerHTML = '';\n",
              "          dataTable['output_type'] = 'display_data';\n",
              "          await google.colab.output.renderOutput(dataTable, element);\n",
              "          const docLink = document.createElement('div');\n",
              "          docLink.innerHTML = docLinkHtml;\n",
              "          element.appendChild(docLink);\n",
              "        }\n",
              "      </script>\n",
              "    </div>\n",
              "  </div>\n",
              "  "
            ],
            "text/plain": [
              "                                              reviewText                                         UkMentions\n",
              "0      I hesitated at first, but nabbed the kit on a ...                                   [uke, cool ukes]\n",
              "1      Plain and simple...some of the frets are not p...                                              [uke]\n",
              "2                       she loved it, won't stop playing                                               [it]\n",
              "3                                              Thank you                                                 []\n",
              "4      I decided that I wanted to learn to play the u...     [ukulele, first ukulele, it, It, best ukulele]\n",
              "...                                                  ...                                                ...\n",
              "32332  I got this uke as a stand alone; it sounds ama...                                          [uke, it]\n",
              "32333                                This is what I want                                                 []\n",
              "32334  The Kala KA-ZCT Tenor Gloss Ziricote uke sound...  [KA-ZCT Tenor Gloss Ziricote uke, It, ukulele,...\n",
              "32335  This little ukulele has a booming voice!  It t...  [little ukulele, It, it, it, It, beautiful uku...\n",
              "32336                  Thanks for a successful purchase.                                                 []\n",
              "\n",
              "[32337 rows x 2 columns]"
            ]
          },
          "metadata": {},
          "execution_count": 28
        }
      ]
    },
    {
      "cell_type": "markdown",
      "source": [
        "# Посмотрим на соседей наших сущностей"
      ],
      "metadata": {
        "id": "4jj9p6DjAhI7"
      }
    },
    {
      "cell_type": "code",
      "source": [
        "# Будем работать с сокращённой таблицей, в которой в каждом отзыве есть упоминание.\n",
        "pusto = []\n",
        "short_rew = rew_data[rew_data['UkMentions'].map(lambda d: len(d)) > 0][['asin','reviewText', 'UkMentions']]\n",
        "short_rew['left_n'] = \"\"\n",
        "short_rew['right_n'] = \"\"\n"
      ],
      "metadata": {
        "id": "__hoP9F1AbgO"
      },
      "execution_count": 79,
      "outputs": []
    },
    {
      "cell_type": "code",
      "source": [
        "def lemmatizing(text):\n",
        "    toks = word_tokenize(text)\n",
        "    words = [w.lower() for w in toks if w.isalpha()]\n",
        "    lemmas = [morph.parse(word)[0].normal_form for word in words]\n",
        "    return lemmas"
      ],
      "metadata": {
        "id": "C6A77TECQ5ix"
      },
      "execution_count": 80,
      "outputs": []
    },
    {
      "cell_type": "code",
      "source": [
        "short_rew['lemms'] = short_rew['reviewText'].progress_apply(lambda x: lemmatizing(x))"
      ],
      "metadata": {
        "colab": {
          "base_uri": "https://localhost:8080/"
        },
        "id": "FaeasEJURgHP",
        "outputId": "c739f18f-dcea-439a-d5de-2cb4ecaa6f2d"
      },
      "execution_count": 81,
      "outputs": [
        {
          "output_type": "stream",
          "name": "stderr",
          "text": [
            "100%|██████████| 25139/25139 [01:09<00:00, 363.21it/s]\n"
          ]
        }
      ]
    },
    {
      "cell_type": "code",
      "source": [
        "short_rew['lem_UkMentions'] = short_rew['UkMentions'].progress_apply(lambda x: [lemmatizing(i) for i in x])"
      ],
      "metadata": {
        "colab": {
          "base_uri": "https://localhost:8080/"
        },
        "id": "NetWDY-NZvhW",
        "outputId": "13c83f92-36b8-4f29-e08b-399686a9ee63"
      },
      "execution_count": 124,
      "outputs": [
        {
          "output_type": "stream",
          "name": "stderr",
          "text": [
            "100%|██████████| 25139/25139 [00:21<00:00, 1143.62it/s]\n"
          ]
        }
      ]
    },
    {
      "cell_type": "code",
      "source": [
        "short_rew"
      ],
      "metadata": {
        "colab": {
          "base_uri": "https://localhost:8080/",
          "height": 971
        },
        "id": "Na3qkSHHS-Us",
        "outputId": "41000bfb-2e97-49eb-a7d4-3b4abfa20f23"
      },
      "execution_count": 130,
      "outputs": [
        {
          "output_type": "execute_result",
          "data": {
            "text/html": [
              "\n",
              "  <div id=\"df-c9218f52-9e68-43ba-871d-ac131537f902\">\n",
              "    <div class=\"colab-df-container\">\n",
              "      <div>\n",
              "<style scoped>\n",
              "    .dataframe tbody tr th:only-of-type {\n",
              "        vertical-align: middle;\n",
              "    }\n",
              "\n",
              "    .dataframe tbody tr th {\n",
              "        vertical-align: top;\n",
              "    }\n",
              "\n",
              "    .dataframe thead th {\n",
              "        text-align: right;\n",
              "    }\n",
              "</style>\n",
              "<table border=\"1\" class=\"dataframe\">\n",
              "  <thead>\n",
              "    <tr style=\"text-align: right;\">\n",
              "      <th></th>\n",
              "      <th>asin</th>\n",
              "      <th>reviewText</th>\n",
              "      <th>UkMentions</th>\n",
              "      <th>left_n</th>\n",
              "      <th>right_n</th>\n",
              "      <th>lemms</th>\n",
              "      <th>lem_UkMentions</th>\n",
              "    </tr>\n",
              "  </thead>\n",
              "  <tbody>\n",
              "    <tr>\n",
              "      <th>0</th>\n",
              "      <td>0739079891</td>\n",
              "      <td>I hesitated at first, but nabbed the kit on a ...</td>\n",
              "      <td>[uke, cool ukes]</td>\n",
              "      <td>[[the, uke], [of, cool, ukes]]</td>\n",
              "      <td>[[uke, is], [cool, ukes, out]]</td>\n",
              "      <td>[i, hesitated, at, first, but, nabbed, the, ki...</td>\n",
              "      <td>[[uke], [cool, ukes]]</td>\n",
              "    </tr>\n",
              "    <tr>\n",
              "      <th>1</th>\n",
              "      <td>0739079891</td>\n",
              "      <td>Plain and simple...some of the frets are not p...</td>\n",
              "      <td>[uke]</td>\n",
              "      <td>[[the, uke]]</td>\n",
              "      <td>[[uke, does]]</td>\n",
              "      <td>[plain, and, simple, some, of, the, frets, are...</td>\n",
              "      <td>[[uke]]</td>\n",
              "    </tr>\n",
              "    <tr>\n",
              "      <th>2</th>\n",
              "      <td>0739079891</td>\n",
              "      <td>she loved it, won't stop playing</td>\n",
              "      <td>[it]</td>\n",
              "      <td>[[loved, it]]</td>\n",
              "      <td>[[it, wo, stop, playing], [it, wo, stop, playi...</td>\n",
              "      <td>[she, loved, it, wo, stop, playing]</td>\n",
              "      <td>[[it]]</td>\n",
              "    </tr>\n",
              "    <tr>\n",
              "      <th>4</th>\n",
              "      <td>0739079891</td>\n",
              "      <td>I decided that I wanted to learn to play the u...</td>\n",
              "      <td>[ukulele, first ukulele, it, It, best ukulele]</td>\n",
              "      <td>[[the, ukulele], [my, first, ukulele], [first,...</td>\n",
              "      <td>[[ukulele, as, a, beginner, i, knew, that, i, ...</td>\n",
              "      <td>[i, decided, that, i, wanted, to, learn, to, p...</td>\n",
              "      <td>[[ukulele], [first, ukulele], [it], [it], [bes...</td>\n",
              "    </tr>\n",
              "    <tr>\n",
              "      <th>5</th>\n",
              "      <td>0739079891</td>\n",
              "      <td>I ordered this ukulele kit for my granddaughte...</td>\n",
              "      <td>[ukulele, it, It, it]</td>\n",
              "      <td>[[this, ukulele], [loved, it], [loved, it], [l...</td>\n",
              "      <td>[[ukulele, kit, for, my, granddaughter, birthd...</td>\n",
              "      <td>[i, ordered, this, ukulele, kit, for, my, gran...</td>\n",
              "      <td>[[ukulele], [it], [it], [it]]</td>\n",
              "    </tr>\n",
              "    <tr>\n",
              "      <th>...</th>\n",
              "      <td>...</td>\n",
              "      <td>...</td>\n",
              "      <td>...</td>\n",
              "      <td>...</td>\n",
              "      <td>...</td>\n",
              "      <td>...</td>\n",
              "      <td>...</td>\n",
              "    </tr>\n",
              "    <tr>\n",
              "      <th>32330</th>\n",
              "      <td>B01HEQ53OA</td>\n",
              "      <td>My daughter loves it!</td>\n",
              "      <td>[it]</td>\n",
              "      <td></td>\n",
              "      <td></td>\n",
              "      <td>[my, daughter, loves, it]</td>\n",
              "      <td>[[it]]</td>\n",
              "    </tr>\n",
              "    <tr>\n",
              "      <th>32331</th>\n",
              "      <td>B01HFKFWDW</td>\n",
              "      <td>The Ukulele is absolutely gorgeous, and plays ...</td>\n",
              "      <td>[Ukulele, It, it, it, it, it, uke, it, it, it,...</td>\n",
              "      <td></td>\n",
              "      <td></td>\n",
              "      <td>[the, ukulele, is, absolutely, gorgeous, and, ...</td>\n",
              "      <td>[[ukulele], [it], [it], [it], [it], [it], [uke...</td>\n",
              "    </tr>\n",
              "    <tr>\n",
              "      <th>32332</th>\n",
              "      <td>B01HFKFWDW</td>\n",
              "      <td>I got this uke as a stand alone; it sounds ama...</td>\n",
              "      <td>[uke, it]</td>\n",
              "      <td></td>\n",
              "      <td></td>\n",
              "      <td>[i, got, this, uke, as, a, stand, alone, it, s...</td>\n",
              "      <td>[[uke], [it]]</td>\n",
              "    </tr>\n",
              "    <tr>\n",
              "      <th>32334</th>\n",
              "      <td>B01HFKFWDW</td>\n",
              "      <td>The Kala KA-ZCT Tenor Gloss Ziricote uke sound...</td>\n",
              "      <td>[KA-ZCT Tenor Gloss Ziricote uke, It, ukulele,...</td>\n",
              "      <td></td>\n",
              "      <td></td>\n",
              "      <td>[the, kala, tenor, gloss, ziricote, uke, sound...</td>\n",
              "      <td>[[tenor, gloss, ziricote, uke], [it], [ukulele...</td>\n",
              "    </tr>\n",
              "    <tr>\n",
              "      <th>32335</th>\n",
              "      <td>B01HFKE7RO</td>\n",
              "      <td>This little ukulele has a booming voice!  It t...</td>\n",
              "      <td>[little ukulele, It, it, it, It, beautiful uku...</td>\n",
              "      <td></td>\n",
              "      <td></td>\n",
              "      <td>[this, little, ukulele, has, a, booming, voice...</td>\n",
              "      <td>[[little, ukulele], [it], [it], [it], [it], [b...</td>\n",
              "    </tr>\n",
              "  </tbody>\n",
              "</table>\n",
              "<p>25139 rows × 7 columns</p>\n",
              "</div>\n",
              "      <button class=\"colab-df-convert\" onclick=\"convertToInteractive('df-c9218f52-9e68-43ba-871d-ac131537f902')\"\n",
              "              title=\"Convert this dataframe to an interactive table.\"\n",
              "              style=\"display:none;\">\n",
              "        \n",
              "  <svg xmlns=\"http://www.w3.org/2000/svg\" height=\"24px\"viewBox=\"0 0 24 24\"\n",
              "       width=\"24px\">\n",
              "    <path d=\"M0 0h24v24H0V0z\" fill=\"none\"/>\n",
              "    <path d=\"M18.56 5.44l.94 2.06.94-2.06 2.06-.94-2.06-.94-.94-2.06-.94 2.06-2.06.94zm-11 1L8.5 8.5l.94-2.06 2.06-.94-2.06-.94L8.5 2.5l-.94 2.06-2.06.94zm10 10l.94 2.06.94-2.06 2.06-.94-2.06-.94-.94-2.06-.94 2.06-2.06.94z\"/><path d=\"M17.41 7.96l-1.37-1.37c-.4-.4-.92-.59-1.43-.59-.52 0-1.04.2-1.43.59L10.3 9.45l-7.72 7.72c-.78.78-.78 2.05 0 2.83L4 21.41c.39.39.9.59 1.41.59.51 0 1.02-.2 1.41-.59l7.78-7.78 2.81-2.81c.8-.78.8-2.07 0-2.86zM5.41 20L4 18.59l7.72-7.72 1.47 1.35L5.41 20z\"/>\n",
              "  </svg>\n",
              "      </button>\n",
              "      \n",
              "  <style>\n",
              "    .colab-df-container {\n",
              "      display:flex;\n",
              "      flex-wrap:wrap;\n",
              "      gap: 12px;\n",
              "    }\n",
              "\n",
              "    .colab-df-convert {\n",
              "      background-color: #E8F0FE;\n",
              "      border: none;\n",
              "      border-radius: 50%;\n",
              "      cursor: pointer;\n",
              "      display: none;\n",
              "      fill: #1967D2;\n",
              "      height: 32px;\n",
              "      padding: 0 0 0 0;\n",
              "      width: 32px;\n",
              "    }\n",
              "\n",
              "    .colab-df-convert:hover {\n",
              "      background-color: #E2EBFA;\n",
              "      box-shadow: 0px 1px 2px rgba(60, 64, 67, 0.3), 0px 1px 3px 1px rgba(60, 64, 67, 0.15);\n",
              "      fill: #174EA6;\n",
              "    }\n",
              "\n",
              "    [theme=dark] .colab-df-convert {\n",
              "      background-color: #3B4455;\n",
              "      fill: #D2E3FC;\n",
              "    }\n",
              "\n",
              "    [theme=dark] .colab-df-convert:hover {\n",
              "      background-color: #434B5C;\n",
              "      box-shadow: 0px 1px 3px 1px rgba(0, 0, 0, 0.15);\n",
              "      filter: drop-shadow(0px 1px 2px rgba(0, 0, 0, 0.3));\n",
              "      fill: #FFFFFF;\n",
              "    }\n",
              "  </style>\n",
              "\n",
              "      <script>\n",
              "        const buttonEl =\n",
              "          document.querySelector('#df-c9218f52-9e68-43ba-871d-ac131537f902 button.colab-df-convert');\n",
              "        buttonEl.style.display =\n",
              "          google.colab.kernel.accessAllowed ? 'block' : 'none';\n",
              "\n",
              "        async function convertToInteractive(key) {\n",
              "          const element = document.querySelector('#df-c9218f52-9e68-43ba-871d-ac131537f902');\n",
              "          const dataTable =\n",
              "            await google.colab.kernel.invokeFunction('convertToInteractive',\n",
              "                                                     [key], {});\n",
              "          if (!dataTable) return;\n",
              "\n",
              "          const docLinkHtml = 'Like what you see? Visit the ' +\n",
              "            '<a target=\"_blank\" href=https://colab.research.google.com/notebooks/data_table.ipynb>data table notebook</a>'\n",
              "            + ' to learn more about interactive tables.';\n",
              "          element.innerHTML = '';\n",
              "          dataTable['output_type'] = 'display_data';\n",
              "          await google.colab.output.renderOutput(dataTable, element);\n",
              "          const docLink = document.createElement('div');\n",
              "          docLink.innerHTML = docLinkHtml;\n",
              "          element.appendChild(docLink);\n",
              "        }\n",
              "      </script>\n",
              "    </div>\n",
              "  </div>\n",
              "  "
            ],
            "text/plain": [
              "             asin  ...                                     lem_UkMentions\n",
              "0      0739079891  ...                              [[uke], [cool, ukes]]\n",
              "1      0739079891  ...                                            [[uke]]\n",
              "2      0739079891  ...                                             [[it]]\n",
              "4      0739079891  ...  [[ukulele], [first, ukulele], [it], [it], [bes...\n",
              "5      0739079891  ...                      [[ukulele], [it], [it], [it]]\n",
              "...           ...  ...                                                ...\n",
              "32330  B01HEQ53OA  ...                                             [[it]]\n",
              "32331  B01HFKFWDW  ...  [[ukulele], [it], [it], [it], [it], [it], [uke...\n",
              "32332  B01HFKFWDW  ...                                      [[uke], [it]]\n",
              "32334  B01HFKFWDW  ...  [[tenor, gloss, ziricote, uke], [it], [ukulele...\n",
              "32335  B01HFKE7RO  ...  [[little, ukulele], [it], [it], [it], [it], [b...\n",
              "\n",
              "[25139 rows x 7 columns]"
            ]
          },
          "metadata": {},
          "execution_count": 130
        }
      ]
    },
    {
      "cell_type": "code",
      "source": [
        "# левый сосед\n",
        "for index, row in short_rew.iterrows():\n",
        "    left_n = []\n",
        "\n",
        "    for tok_id in range(len(row['lemms'])):\n",
        "        for ment_id in range(len(row['lem_UkMentions'])):\n",
        "            try:\n",
        "                if row['lemms'][tok_id] == row['lem_UkMentions'][ment_id][0]:\n",
        "                    w_left = [row['lemms'][tok_id-1]]\n",
        "                    w_left.extend(row['lem_UkMentions'][ment_id])\n",
        "                    left_n.append(w_left)\n",
        "            except Exception:\n",
        "                answer = 'Там нет слова'\n",
        "    short_rew['left_n'][index] = left_n"
      ],
      "metadata": {
        "id": "H19vygyFKDLw"
      },
      "execution_count": 131,
      "outputs": []
    },
    {
      "cell_type": "code",
      "source": [
        "# правый сосед\n",
        "for index, row in short_rew.iterrows():\n",
        "    right_n = []\n",
        "\n",
        "    for tok_id in range(len(row['lemms'])):\n",
        "        for ment_id in range(len(row['lem_UkMentions'])):\n",
        "            try:\n",
        "                if row['lemms'][tok_id] == row['lem_UkMentions'][ment_id][-1]:\n",
        "                    w_right = []\n",
        "                    w_right.extend(row['lem_UkMentions'][ment_id])\n",
        "                    w_right.append(row['lemms'][tok_id+1])\n",
        "                    right_n.append(w_right)\n",
        "            except Exception:\n",
        "                answer = 'Там нет слова'\n",
        "    short_rew['right_n'][index] = right_n"
      ],
      "metadata": {
        "id": "w3nhs8h1kkaH"
      },
      "execution_count": 132,
      "outputs": []
    },
    {
      "cell_type": "code",
      "source": [
        "short_rew"
      ],
      "metadata": {
        "colab": {
          "base_uri": "https://localhost:8080/",
          "height": 901
        },
        "id": "I2tqBKuRNMhb",
        "outputId": "22d838b7-0d38-480f-8bfe-49abb6c6620c"
      },
      "execution_count": 133,
      "outputs": [
        {
          "output_type": "execute_result",
          "data": {
            "text/html": [
              "\n",
              "  <div id=\"df-25dfc39d-1a06-44e3-9f09-441a34b91461\">\n",
              "    <div class=\"colab-df-container\">\n",
              "      <div>\n",
              "<style scoped>\n",
              "    .dataframe tbody tr th:only-of-type {\n",
              "        vertical-align: middle;\n",
              "    }\n",
              "\n",
              "    .dataframe tbody tr th {\n",
              "        vertical-align: top;\n",
              "    }\n",
              "\n",
              "    .dataframe thead th {\n",
              "        text-align: right;\n",
              "    }\n",
              "</style>\n",
              "<table border=\"1\" class=\"dataframe\">\n",
              "  <thead>\n",
              "    <tr style=\"text-align: right;\">\n",
              "      <th></th>\n",
              "      <th>asin</th>\n",
              "      <th>reviewText</th>\n",
              "      <th>UkMentions</th>\n",
              "      <th>left_n</th>\n",
              "      <th>right_n</th>\n",
              "      <th>lemms</th>\n",
              "      <th>lem_UkMentions</th>\n",
              "    </tr>\n",
              "  </thead>\n",
              "  <tbody>\n",
              "    <tr>\n",
              "      <th>0</th>\n",
              "      <td>0739079891</td>\n",
              "      <td>I hesitated at first, but nabbed the kit on a ...</td>\n",
              "      <td>[uke, cool ukes]</td>\n",
              "      <td>[[the, uke], [of, cool, ukes]]</td>\n",
              "      <td>[[uke, is], [cool, ukes, out]]</td>\n",
              "      <td>[i, hesitated, at, first, but, nabbed, the, ki...</td>\n",
              "      <td>[[uke], [cool, ukes]]</td>\n",
              "    </tr>\n",
              "    <tr>\n",
              "      <th>1</th>\n",
              "      <td>0739079891</td>\n",
              "      <td>Plain and simple...some of the frets are not p...</td>\n",
              "      <td>[uke]</td>\n",
              "      <td>[[the, uke]]</td>\n",
              "      <td>[[uke, does]]</td>\n",
              "      <td>[plain, and, simple, some, of, the, frets, are...</td>\n",
              "      <td>[[uke]]</td>\n",
              "    </tr>\n",
              "    <tr>\n",
              "      <th>2</th>\n",
              "      <td>0739079891</td>\n",
              "      <td>she loved it, won't stop playing</td>\n",
              "      <td>[it]</td>\n",
              "      <td>[[loved, it]]</td>\n",
              "      <td>[[it, wo]]</td>\n",
              "      <td>[she, loved, it, wo, stop, playing]</td>\n",
              "      <td>[[it]]</td>\n",
              "    </tr>\n",
              "    <tr>\n",
              "      <th>4</th>\n",
              "      <td>0739079891</td>\n",
              "      <td>I decided that I wanted to learn to play the u...</td>\n",
              "      <td>[ukulele, first ukulele, it, It, best ukulele]</td>\n",
              "      <td>[[the, ukulele], [my, first, ukulele], [first,...</td>\n",
              "      <td>[[ukulele, as], [first, ukulele, as], [best, u...</td>\n",
              "      <td>[i, decided, that, i, wanted, to, learn, to, p...</td>\n",
              "      <td>[[ukulele], [first, ukulele], [it], [it], [bes...</td>\n",
              "    </tr>\n",
              "    <tr>\n",
              "      <th>5</th>\n",
              "      <td>0739079891</td>\n",
              "      <td>I ordered this ukulele kit for my granddaughte...</td>\n",
              "      <td>[ukulele, it, It, it]</td>\n",
              "      <td>[[this, ukulele], [loved, it], [loved, it], [l...</td>\n",
              "      <td>[[ukulele, kit], [it, it], [it, it], [it, it],...</td>\n",
              "      <td>[i, ordered, this, ukulele, kit, for, my, gran...</td>\n",
              "      <td>[[ukulele], [it], [it], [it]]</td>\n",
              "    </tr>\n",
              "    <tr>\n",
              "      <th>...</th>\n",
              "      <td>...</td>\n",
              "      <td>...</td>\n",
              "      <td>...</td>\n",
              "      <td>...</td>\n",
              "      <td>...</td>\n",
              "      <td>...</td>\n",
              "      <td>...</td>\n",
              "    </tr>\n",
              "    <tr>\n",
              "      <th>32330</th>\n",
              "      <td>B01HEQ53OA</td>\n",
              "      <td>My daughter loves it!</td>\n",
              "      <td>[it]</td>\n",
              "      <td>[[loves, it]]</td>\n",
              "      <td>[]</td>\n",
              "      <td>[my, daughter, loves, it]</td>\n",
              "      <td>[[it]]</td>\n",
              "    </tr>\n",
              "    <tr>\n",
              "      <th>32331</th>\n",
              "      <td>B01HFKFWDW</td>\n",
              "      <td>The Ukulele is absolutely gorgeous, and plays ...</td>\n",
              "      <td>[Ukulele, It, it, it, it, it, uke, it, it, it,...</td>\n",
              "      <td>[[the, ukulele], [the, ukulele], [amazing, it]...</td>\n",
              "      <td>[[ukulele, is], [ukulele, is], [it, was], [it,...</td>\n",
              "      <td>[the, ukulele, is, absolutely, gorgeous, and, ...</td>\n",
              "      <td>[[ukulele], [it], [it], [it], [it], [it], [uke...</td>\n",
              "    </tr>\n",
              "    <tr>\n",
              "      <th>32332</th>\n",
              "      <td>B01HFKFWDW</td>\n",
              "      <td>I got this uke as a stand alone; it sounds ama...</td>\n",
              "      <td>[uke, it]</td>\n",
              "      <td>[[this, uke], [alone, it]]</td>\n",
              "      <td>[[uke, as], [it, sounds]]</td>\n",
              "      <td>[i, got, this, uke, as, a, stand, alone, it, s...</td>\n",
              "      <td>[[uke], [it]]</td>\n",
              "    </tr>\n",
              "    <tr>\n",
              "      <th>32334</th>\n",
              "      <td>B01HFKFWDW</td>\n",
              "      <td>The Kala KA-ZCT Tenor Gloss Ziricote uke sound...</td>\n",
              "      <td>[KA-ZCT Tenor Gloss Ziricote uke, It, ukulele,...</td>\n",
              "      <td>[[kala, tenor, gloss, ziricote, uke], [fantast...</td>\n",
              "      <td>[[tenor, gloss, ziricote, uke, sounds], [it, c...</td>\n",
              "      <td>[the, kala, tenor, gloss, ziricote, uke, sound...</td>\n",
              "      <td>[[tenor, gloss, ziricote, uke], [it], [ukulele...</td>\n",
              "    </tr>\n",
              "    <tr>\n",
              "      <th>32335</th>\n",
              "      <td>B01HFKE7RO</td>\n",
              "      <td>This little ukulele has a booming voice!  It t...</td>\n",
              "      <td>[little ukulele, It, it, it, It, beautiful uku...</td>\n",
              "      <td>[[this, little, ukulele], [voice, it], [voice,...</td>\n",
              "      <td>[[little, ukulele, has], [beautiful, ukulele, ...</td>\n",
              "      <td>[this, little, ukulele, has, a, booming, voice...</td>\n",
              "      <td>[[little, ukulele], [it], [it], [it], [it], [b...</td>\n",
              "    </tr>\n",
              "  </tbody>\n",
              "</table>\n",
              "<p>25139 rows × 7 columns</p>\n",
              "</div>\n",
              "      <button class=\"colab-df-convert\" onclick=\"convertToInteractive('df-25dfc39d-1a06-44e3-9f09-441a34b91461')\"\n",
              "              title=\"Convert this dataframe to an interactive table.\"\n",
              "              style=\"display:none;\">\n",
              "        \n",
              "  <svg xmlns=\"http://www.w3.org/2000/svg\" height=\"24px\"viewBox=\"0 0 24 24\"\n",
              "       width=\"24px\">\n",
              "    <path d=\"M0 0h24v24H0V0z\" fill=\"none\"/>\n",
              "    <path d=\"M18.56 5.44l.94 2.06.94-2.06 2.06-.94-2.06-.94-.94-2.06-.94 2.06-2.06.94zm-11 1L8.5 8.5l.94-2.06 2.06-.94-2.06-.94L8.5 2.5l-.94 2.06-2.06.94zm10 10l.94 2.06.94-2.06 2.06-.94-2.06-.94-.94-2.06-.94 2.06-2.06.94z\"/><path d=\"M17.41 7.96l-1.37-1.37c-.4-.4-.92-.59-1.43-.59-.52 0-1.04.2-1.43.59L10.3 9.45l-7.72 7.72c-.78.78-.78 2.05 0 2.83L4 21.41c.39.39.9.59 1.41.59.51 0 1.02-.2 1.41-.59l7.78-7.78 2.81-2.81c.8-.78.8-2.07 0-2.86zM5.41 20L4 18.59l7.72-7.72 1.47 1.35L5.41 20z\"/>\n",
              "  </svg>\n",
              "      </button>\n",
              "      \n",
              "  <style>\n",
              "    .colab-df-container {\n",
              "      display:flex;\n",
              "      flex-wrap:wrap;\n",
              "      gap: 12px;\n",
              "    }\n",
              "\n",
              "    .colab-df-convert {\n",
              "      background-color: #E8F0FE;\n",
              "      border: none;\n",
              "      border-radius: 50%;\n",
              "      cursor: pointer;\n",
              "      display: none;\n",
              "      fill: #1967D2;\n",
              "      height: 32px;\n",
              "      padding: 0 0 0 0;\n",
              "      width: 32px;\n",
              "    }\n",
              "\n",
              "    .colab-df-convert:hover {\n",
              "      background-color: #E2EBFA;\n",
              "      box-shadow: 0px 1px 2px rgba(60, 64, 67, 0.3), 0px 1px 3px 1px rgba(60, 64, 67, 0.15);\n",
              "      fill: #174EA6;\n",
              "    }\n",
              "\n",
              "    [theme=dark] .colab-df-convert {\n",
              "      background-color: #3B4455;\n",
              "      fill: #D2E3FC;\n",
              "    }\n",
              "\n",
              "    [theme=dark] .colab-df-convert:hover {\n",
              "      background-color: #434B5C;\n",
              "      box-shadow: 0px 1px 3px 1px rgba(0, 0, 0, 0.15);\n",
              "      filter: drop-shadow(0px 1px 2px rgba(0, 0, 0, 0.3));\n",
              "      fill: #FFFFFF;\n",
              "    }\n",
              "  </style>\n",
              "\n",
              "      <script>\n",
              "        const buttonEl =\n",
              "          document.querySelector('#df-25dfc39d-1a06-44e3-9f09-441a34b91461 button.colab-df-convert');\n",
              "        buttonEl.style.display =\n",
              "          google.colab.kernel.accessAllowed ? 'block' : 'none';\n",
              "\n",
              "        async function convertToInteractive(key) {\n",
              "          const element = document.querySelector('#df-25dfc39d-1a06-44e3-9f09-441a34b91461');\n",
              "          const dataTable =\n",
              "            await google.colab.kernel.invokeFunction('convertToInteractive',\n",
              "                                                     [key], {});\n",
              "          if (!dataTable) return;\n",
              "\n",
              "          const docLinkHtml = 'Like what you see? Visit the ' +\n",
              "            '<a target=\"_blank\" href=https://colab.research.google.com/notebooks/data_table.ipynb>data table notebook</a>'\n",
              "            + ' to learn more about interactive tables.';\n",
              "          element.innerHTML = '';\n",
              "          dataTable['output_type'] = 'display_data';\n",
              "          await google.colab.output.renderOutput(dataTable, element);\n",
              "          const docLink = document.createElement('div');\n",
              "          docLink.innerHTML = docLinkHtml;\n",
              "          element.appendChild(docLink);\n",
              "        }\n",
              "      </script>\n",
              "    </div>\n",
              "  </div>\n",
              "  "
            ],
            "text/plain": [
              "             asin  ...                                     lem_UkMentions\n",
              "0      0739079891  ...                              [[uke], [cool, ukes]]\n",
              "1      0739079891  ...                                            [[uke]]\n",
              "2      0739079891  ...                                             [[it]]\n",
              "4      0739079891  ...  [[ukulele], [first, ukulele], [it], [it], [bes...\n",
              "5      0739079891  ...                      [[ukulele], [it], [it], [it]]\n",
              "...           ...  ...                                                ...\n",
              "32330  B01HEQ53OA  ...                                             [[it]]\n",
              "32331  B01HFKFWDW  ...  [[ukulele], [it], [it], [it], [it], [it], [uke...\n",
              "32332  B01HFKFWDW  ...                                      [[uke], [it]]\n",
              "32334  B01HFKFWDW  ...  [[tenor, gloss, ziricote, uke], [it], [ukulele...\n",
              "32335  B01HFKE7RO  ...  [[little, ukulele], [it], [it], [it], [it], [b...\n",
              "\n",
              "[25139 rows x 7 columns]"
            ]
          },
          "metadata": {},
          "execution_count": 133
        }
      ]
    },
    {
      "cell_type": "markdown",
      "source": [
        "# Ранжируем\n",
        "\n",
        "Тут я поняла, что я не знаю, что делать с моими NE, и начала почти с нуля."
      ],
      "metadata": {
        "id": "3NfytBevE5j9"
      }
    },
    {
      "cell_type": "code",
      "source": [
        "from nltk.collocations import *"
      ],
      "metadata": {
        "id": "L3F_jF33s8bJ"
      },
      "execution_count": 134,
      "outputs": []
    },
    {
      "cell_type": "code",
      "source": [
        "texts = short_rew['lemms'].to_list()"
      ],
      "metadata": {
        "id": "IlHWL0fltTiT"
      },
      "execution_count": 135,
      "outputs": []
    },
    {
      "cell_type": "code",
      "source": [
        "# Коллекция метрик\n",
        "bigram_measures = nltk.collocations.BigramAssocMeasures()\n",
        "# Экстрактор коллокаций\n",
        "finder = BigramCollocationFinder.from_documents(texts)"
      ],
      "metadata": {
        "id": "zeDS2lL5tvGl"
      },
      "execution_count": 154,
      "outputs": []
    },
    {
      "cell_type": "code",
      "source": [
        "filter = lambda *w: 'ukulele' not in w and 'uke' not in w and 'ukes' not in w and 'eku' not in w and 'instrument' not in w and 'cavaquinho' not in w and 'machete' not in w and 'cavaco' not in w and 'cavacolele' not in w and 'timple' not in w and 'taropatch' not in w\n",
        "finder.apply_ngram_filter(filter)"
      ],
      "metadata": {
        "id": "pkst2yeavmi9"
      },
      "execution_count": 169,
      "outputs": []
    },
    {
      "cell_type": "code",
      "source": [
        "finder.score_ngrams(bigram_measures.likelihood_ratio)[:50]"
      ],
      "metadata": {
        "colab": {
          "base_uri": "https://localhost:8080/"
        },
        "id": "hJaENt7guAub",
        "outputId": "d3295c33-cbc9-415b-82ce-c911fab99efe"
      },
      "execution_count": 170,
      "outputs": [
        {
          "output_type": "execute_result",
          "data": {
            "text/plain": [
              "[(('this', 'ukulele'), 10831.816696178113),\n",
              " (('this', 'uke'), 7410.24590845111),\n",
              " (('the', 'ukulele'), 3544.234657008523),\n",
              " (('this', 'instrument'), 2975.0722476951405),\n",
              " (('first', 'ukulele'), 2754.039890423317),\n",
              " (('an', 'instrument'), 2701.870914084869),\n",
              " (('the', 'uke'), 2395.2604825327803),\n",
              " (('the', 'instrument'), 2016.0160528049482),\n",
              " (('ukulele', 'for'), 1988.7650507428846),\n",
              " (('soprano', 'ukulele'), 1831.8357183987491),\n",
              " (('ukulele', 'is'), 1761.1403796785225),\n",
              " (('starter', 'uke'), 1746.3295476036924),\n",
              " (('musical', 'instrument'), 1642.494160126951),\n",
              " (('little', 'uke'), 1619.911334042907),\n",
              " (('other', 'ukes'), 1451.3941656785703),\n",
              " (('uke', 'for'), 1336.3471547862184),\n",
              " (('concert', 'ukulele'), 1307.6002267530912),\n",
              " (('starter', 'ukulele'), 1289.8987030877772),\n",
              " (('little', 'instrument'), 1230.9989872535443),\n",
              " (('concert', 'uke'), 1171.5044961520177),\n",
              " (('beautiful', 'instrument'), 1163.972610293445),\n",
              " (('stringed', 'instrument'), 1086.573108436624),\n",
              " (('tenor', 'ukulele'), 1068.5751310434166),\n",
              " (('tenor', 'uke'), 1064.9708241621722),\n",
              " (('soprano', 'uke'), 1054.5709810295373),\n",
              " (('uke', 'is'), 1015.1385452924458),\n",
              " (('first', 'uke'), 1015.0395819787288),\n",
              " (('baritone', 'uke'), 928.3906508340572),\n",
              " (('beginner', 'ukulele'), 911.68821900446),\n",
              " (('baritone', 'ukulele'), 889.4995259281372),\n",
              " (('ukulele', 'and'), 802.26773586853),\n",
              " (('quality', 'instrument'), 786.041483952423),\n",
              " (('and', 'ukulele'), 785.2549953770075),\n",
              " (('ukulele', 'a'), 686.6099523037146),\n",
              " (('beginner', 'uke'), 663.5569081032249),\n",
              " (('instrument', 'for'), 633.2009156120329),\n",
              " (('real', 'instrument'), 611.9440345542555),\n",
              " (('ukulele', 'player'), 583.1005181093423),\n",
              " (('ukulele', 'itself'), 571.4034925240278),\n",
              " (('a', 'ukulele'), 545.1222657556295),\n",
              " (('ukulele', 'i'), 540.761072187657),\n",
              " (('little', 'ukulele'), 530.2859016415046),\n",
              " (('ukulele', 'but'), 529.4679944339173),\n",
              " (('uke', 'itself'), 525.1960426899701),\n",
              " (('great', 'ukulele'), 509.6812888506772),\n",
              " (('instrument', 'itself'), 502.8949574008774),\n",
              " (('uke', 'player'), 499.8092204758567),\n",
              " (('sounding', 'instrument'), 490.40682087820005),\n",
              " (('to', 'ukulele'), 486.99453015772394),\n",
              " (('starter', 'instrument'), 451.9183366085981)]"
            ]
          },
          "metadata": {},
          "execution_count": 170
        }
      ]
    },
    {
      "cell_type": "code",
      "source": [
        "finder.apply_freq_filter(50)\n",
        "finder.score_ngrams(bigram_measures.pmi)[:50]"
      ],
      "metadata": {
        "colab": {
          "base_uri": "https://localhost:8080/"
        },
        "id": "8_l85s991CiR",
        "outputId": "3fde84cf-4021-40e0-c9e9-bfc2e0803165"
      },
      "execution_count": 171,
      "outputs": [
        {
          "output_type": "execute_result",
          "data": {
            "text/plain": [
              "[(('musical', 'instrument'), 6.485601163920148),\n",
              " (('stringed', 'instrument'), 6.308172854063955),\n",
              " (('other', 'ukes'), 6.147665855203929),\n",
              " (('expensive', 'ukes'), 5.980135368902001),\n",
              " (('these', 'ukes'), 5.4097402857997885),\n",
              " (('instrument', 'itself'), 5.125136785634833),\n",
              " (('starter', 'uke'), 5.079451327603326),\n",
              " (('baritone', 'uke'), 4.936292386807754),\n",
              " (('real', 'instrument'), 4.895795368542348),\n",
              " (('sounding', 'instrument'), 4.820418325947902),\n",
              " (('uke', 'itself'), 4.745110449495016),\n",
              " (('an', 'instrument'), 4.549498816640899),\n",
              " (('baritone', 'ukulele'), 4.536180700613617),\n",
              " (('concert', 'uke'), 4.49572727414872),\n",
              " (('ukulele', 'itself'), 4.4742817802458426),\n",
              " (('tenor', 'uke'), 4.4497444563106825),\n",
              " (('soprano', 'ukulele'), 4.427389796056932),\n",
              " (('starter', 'ukulele'), 4.421305916633763),\n",
              " (('inexpensive', 'instrument'), 4.299190880000765),\n",
              " (('beautiful', 'instrument'), 4.268523448383434),\n",
              " (('concert', 'ukulele'), 4.256262775808889),\n",
              " (('soprano', 'uke'), 4.239007290559655),\n",
              " (('uke', 'player'), 4.1717639839488605),\n",
              " (('starter', 'instrument'), 4.152816325509093),\n",
              " (('tenor', 'ukulele'), 4.1103287018041),\n",
              " (('travel', 'uke'), 4.0763381051201435),\n",
              " (('sounding', 'uke'), 4.0719705805139235),\n",
              " (('ukulele', 'players'), 3.989109374210358),\n",
              " (('ukulele', 'player'), 3.981734425669025),\n",
              " (('first', 'ukulele'), 3.92324821711615),\n",
              " (('sounding', 'ukulele'), 3.8444830453630523),\n",
              " (('little', 'instrument'), 3.8203829436613965),\n",
              " (('little', 'uke'), 3.694959917192527),\n",
              " (('ukes', 'are'), 3.5884014287271064),\n",
              " (('level', 'ukulele'), 3.5498276963242503),\n",
              " (('beginner', 'uke'), 3.5442313025056293),\n",
              " (('beginner', 'ukulele'), 3.513576081281446),\n",
              " (('expensive', 'instrument'), 3.5101144283928463),\n",
              " (('this', 'ukulele'), 3.4282840540259762),\n",
              " (('inexpensive', 'ukulele'), 3.4182898807318907),\n",
              " (('string', 'instrument'), 3.4136828946601767),\n",
              " (('this', 'uke'), 3.403753958884174),\n",
              " (('instrument', 'before'), 3.3860155018021203),\n",
              " (('first', 'uke'), 3.3417434154166834),\n",
              " (('new', 'instrument'), 3.3298527754786846),\n",
              " (('second', 'ukulele'), 3.311137910845307),\n",
              " (('beginner', 'instrument'), 3.262687207994773),\n",
              " (('quality', 'instrument'), 3.2081443225863993),\n",
              " (('this', 'instrument'), 2.980403287366425),\n",
              " (('small', 'instrument'), 2.961517673274212)]"
            ]
          },
          "metadata": {},
          "execution_count": 171
        }
      ]
    },
    {
      "cell_type": "code",
      "source": [
        "finder.apply_freq_filter(40)\n",
        "finder.score_ngrams(bigram_measures.dice)[:50]"
      ],
      "metadata": {
        "colab": {
          "base_uri": "https://localhost:8080/"
        },
        "id": "uCLB_N901DZG",
        "outputId": "73c99156-efac-4796-bad1-c193be9fe7dc"
      },
      "execution_count": 175,
      "outputs": [
        {
          "output_type": "execute_result",
          "data": {
            "text/plain": [
              "[(('this', 'ukulele'), 0.14273634364958565),\n",
              " (('this', 'uke'), 0.1118144960523508),\n",
              " (('other', 'ukes'), 0.09213627598028712),\n",
              " (('an', 'instrument'), 0.088038134962014),\n",
              " (('first', 'ukulele'), 0.0658402946195994),\n",
              " (('this', 'instrument'), 0.061876825129567756),\n",
              " (('the', 'ukulele'), 0.06040834353857582),\n",
              " (('ukulele', 'for'), 0.05763952424519671),\n",
              " (('little', 'uke'), 0.05460164835164835),\n",
              " (('ukulele', 'is'), 0.05356931688280973),\n",
              " (('little', 'instrument'), 0.052307229821133325),\n",
              " (('beautiful', 'instrument'), 0.049694933239013174),\n",
              " (('musical', 'instrument'), 0.04879694175848887),\n",
              " (('starter', 'uke'), 0.04678024833958995),\n",
              " (('expensive', 'ukes'), 0.04540295119182747),\n",
              " (('uke', 'for'), 0.04502317369234165),\n",
              " (('the', 'uke'), 0.04440446584475369),\n",
              " (('soprano', 'ukulele'), 0.04194871794871795),\n",
              " (('first', 'uke'), 0.04060913705583756),\n",
              " (('quality', 'instrument'), 0.039443949873313705),\n",
              " (('uke', 'is'), 0.03871873013088948),\n",
              " (('ukulele', 'and'), 0.03767408470926059),\n",
              " (('concert', 'uke'), 0.0368532955350815),\n",
              " (('these', 'ukes'), 0.03616513135448653),\n",
              " (('soprano', 'uke'), 0.03548319766228345),\n",
              " (('the', 'instrument'), 0.03431898947181968),\n",
              " (('tenor', 'uke'), 0.03419290497221827),\n",
              " (('stringed', 'instrument'), 0.03413357606098532),\n",
              " (('a', 'ukulele'), 0.033161298752204874),\n",
              " (('ukulele', 'i'), 0.03299104492693216),\n",
              " (('ukulele', 'but'), 0.032234560345078836),\n",
              " (('concert', 'ukulele'), 0.03222955762333004),\n",
              " (('starter', 'ukulele'), 0.030454713103957004),\n",
              " (('great', 'ukulele'), 0.030233904191209016),\n",
              " (('instrument', 'for'), 0.02873296370141753),\n",
              " (('beginner', 'ukulele'), 0.02867669023200239),\n",
              " (('my', 'ukulele'), 0.02839366515837104),\n",
              " (('great', 'uke'), 0.028378155419897706),\n",
              " (('beginner', 'uke'), 0.027943044321144462),\n",
              " (('tenor', 'ukulele'), 0.02786329246021393),\n",
              " (('baritone', 'uke'), 0.02694610778443114),\n",
              " (('real', 'instrument'), 0.026444131353636068),\n",
              " (('uke', 'and'), 0.02591324023991445),\n",
              " (('uke', 'but'), 0.025767543859649123),\n",
              " (('little', 'ukulele'), 0.025487853444842692),\n",
              " (('string', 'instrument'), 0.02442159383033419),\n",
              " (('uke', 'i'), 0.0235799367960457),\n",
              " (('starter', 'instrument'), 0.02353912863927318),\n",
              " (('my', 'uke'), 0.023418119273641385),\n",
              " (('instrument', 'but'), 0.023023423135342554)]"
            ]
          },
          "metadata": {},
          "execution_count": 175
        }
      ]
    },
    {
      "cell_type": "markdown",
      "source": [
        "Итого: мне больше всего понравился результат PMI с фильтром. Получаются более специфические биграммы. (Мы знаем, что PMI \"переоценивает\" редкие слова.) Но гораздо больше мне нравились мои NE из предыдущей части задания."
      ],
      "metadata": {
        "id": "NX1ck8yZ2mIs"
      }
    },
    {
      "cell_type": "markdown",
      "source": [
        "# Посмотрим NE для разных брендов"
      ],
      "metadata": {
        "id": "-GQe2io03G_4"
      }
    },
    {
      "cell_type": "code",
      "source": [
        "# Объединили тексты с брендами\n",
        "short_rew = short_rew.join(meta_df.set_index('asin'), on='asin')"
      ],
      "metadata": {
        "id": "hBmSEST32kSB"
      },
      "execution_count": 202,
      "outputs": []
    },
    {
      "cell_type": "code",
      "source": [
        "# Возьмём 5 довольно популярных брендов и посмотрим, что про них пишут.\n",
        "\n",
        "Lanikai_texts = short_rew.loc[short_rew['brand'] == 'Lanikai']['lemms'].to_list()\n",
        "Oscar_texts = short_rew.loc[short_rew['brand'] == 'Oscar Schmidt']['lemms'].to_list()\n",
        "Kohala_texts = short_rew.loc[short_rew['brand'] == 'Kohala']['lemms'].to_list()\n",
        "Mahalo_texts = short_rew.loc[short_rew['brand'] == 'Mahalo']['lemms'].to_list()\n",
        "Luna_texts = short_rew.loc[short_rew['brand'] == 'Luna Guitars']['lemms'].to_list()"
      ],
      "metadata": {
        "id": "_xsoS6MxAPcB"
      },
      "execution_count": 206,
      "outputs": []
    },
    {
      "cell_type": "code",
      "source": [
        "print('Lanikai')\n",
        "finder_Lanikai = BigramCollocationFinder.from_documents(Lanikai_texts)\n",
        "filter = lambda *w: 'ukulele' not in w and 'uke' not in w and 'ukes' not in w and 'eku' not in w and 'cavaquinho' not in w and 'machete' not in w and 'cavaco' not in w and 'cavacolele' not in w and 'timple' not in w and 'taropatch' not in w\n",
        "finder_Lanikai.apply_ngram_filter(filter)\n",
        "finder_Lanikai.apply_freq_filter(7)\n",
        "finder_Lanikai.score_ngrams(bigram_measures.pmi)[:6]"
      ],
      "metadata": {
        "colab": {
          "base_uri": "https://localhost:8080/"
        },
        "id": "fnt6xIkrCKyc",
        "outputId": "5bec9a94-49bc-4c7d-9749-b3af690bf7e9"
      },
      "execution_count": 212,
      "outputs": [
        {
          "output_type": "stream",
          "name": "stdout",
          "text": [
            "Lanikai\n"
          ]
        },
        {
          "output_type": "execute_result",
          "data": {
            "text/plain": [
              "[(('other', 'ukes'), 5.802085484795196),\n",
              " (('starter', 'uke'), 5.5252941811387295),\n",
              " (('baritone', 'uke'), 5.315371111764495),\n",
              " (('ukulele', 'bundle'), 4.869592304153475),\n",
              " (('concert', 'uke'), 4.807887363721058),\n",
              " (('baritone', 'ukulele'), 4.757382800567445)]"
            ]
          },
          "metadata": {},
          "execution_count": 212
        }
      ]
    },
    {
      "cell_type": "code",
      "source": [
        "print('Oscar Schmidt')\n",
        "finder_Oscar = BigramCollocationFinder.from_documents(Oscar_texts)\n",
        "filter = lambda *w: 'ukulele' not in w and 'uke' not in w and 'ukes' not in w and 'eku' not in w and 'cavaquinho' not in w and 'machete' not in w and 'cavaco' not in w and 'cavacolele' not in w and 'timple' not in w and 'taropatch' not in w\n",
        "finder_Oscar.apply_ngram_filter(filter)\n",
        "finder_Oscar.apply_freq_filter(7)\n",
        "finder_Oscar.score_ngrams(bigram_measures.pmi)[:6]"
      ],
      "metadata": {
        "colab": {
          "base_uri": "https://localhost:8080/"
        },
        "id": "ETOkiPlrDPy0",
        "outputId": "8e10b7e4-54c2-48a2-8bc7-6c7a7ef84af8"
      },
      "execution_count": 213,
      "outputs": [
        {
          "output_type": "stream",
          "name": "stdout",
          "text": [
            "Oscar Schmidt\n"
          ]
        },
        {
          "output_type": "execute_result",
          "data": {
            "text/plain": [
              "[(('ukulele', 'club'), 6.563424936838851),\n",
              " (('other', 'ukes'), 6.473979614878354),\n",
              " (('ukulele', 'itself'), 4.978462436117697),\n",
              " (('baritone', 'uke'), 4.731252997445587),\n",
              " (('uke', 'itself'), 4.627965189033562),\n",
              " (('soprano', 'uke'), 4.610958763727872)]"
            ]
          },
          "metadata": {},
          "execution_count": 213
        }
      ]
    },
    {
      "cell_type": "code",
      "source": [
        "print('Kohala')\n",
        "finder_Kohala = BigramCollocationFinder.from_documents(Kohala_texts)\n",
        "filter = lambda *w: 'ukulele' not in w and 'uke' not in w and 'ukes' not in w and 'eku' not in w and 'cavaquinho' not in w and 'machete' not in w and 'cavaco' not in w and 'cavacolele' not in w and 'timple' not in w and 'taropatch' not in w\n",
        "finder_Kohala.apply_ngram_filter(filter)\n",
        "finder_Kohala.apply_freq_filter(7)\n",
        "finder_Kohala.score_ngrams(bigram_measures.pmi)[:6]"
      ],
      "metadata": {
        "colab": {
          "base_uri": "https://localhost:8080/"
        },
        "id": "3dYeZ7LnDSmc",
        "outputId": "85ac9ede-44f2-40a1-be84-1ab8607b9d34"
      },
      "execution_count": 215,
      "outputs": [
        {
          "output_type": "stream",
          "name": "stdout",
          "text": [
            "Kohala\n"
          ]
        },
        {
          "output_type": "execute_result",
          "data": {
            "text/plain": [
              "[(('first', 'ukulele'), 4.689986817163966),\n",
              " (('this', 'ukulele'), 3.6418712349378612),\n",
              " (('this', 'uke'), 3.6337865048061726),\n",
              " (('uke', 'for'), 2.580585727544717),\n",
              " (('my', 'ukulele'), 2.2720605127968945),\n",
              " (('ukulele', 'for'), 2.024769572483075)]"
            ]
          },
          "metadata": {},
          "execution_count": 215
        }
      ]
    },
    {
      "cell_type": "code",
      "source": [
        "print('Mahalo')\n",
        "finder_Mahalo = BigramCollocationFinder.from_documents(Mahalo_texts)\n",
        "filter = lambda *w: 'ukulele' not in w and 'uke' not in w and 'ukes' not in w and 'eku' not in w and 'cavaquinho' not in w and 'machete' not in w and 'cavaco' not in w and 'cavacolele' not in w and 'timple' not in w and 'taropatch' not in w\n",
        "finder_Mahalo.apply_ngram_filter(filter)\n",
        "finder_Mahalo.apply_freq_filter(7)\n",
        "finder_Mahalo.score_ngrams(bigram_measures.pmi)[:6]"
      ],
      "metadata": {
        "colab": {
          "base_uri": "https://localhost:8080/"
        },
        "id": "9QYIZMFtDTWe",
        "outputId": "2fc5b20e-d066-4f15-dff3-53fa3d41de87"
      },
      "execution_count": 216,
      "outputs": [
        {
          "output_type": "stream",
          "name": "stdout",
          "text": [
            "Mahalo\n"
          ]
        },
        {
          "output_type": "execute_result",
          "data": {
            "text/plain": [
              "[(('little', 'uke'), 4.379539142838929),\n",
              " (('first', 'ukulele'), 4.077812434590166),\n",
              " (('this', 'ukulele'), 3.686446572058749),\n",
              " (('this', 'uke'), 3.5592583721121187),\n",
              " (('little', 'ukulele'), 2.6199618517723504),\n",
              " (('ukulele', 'is'), 2.4902187184015787)]"
            ]
          },
          "metadata": {},
          "execution_count": 216
        }
      ]
    },
    {
      "cell_type": "code",
      "source": [
        "print('Luna Guitars')\n",
        "finder_Luna = BigramCollocationFinder.from_documents(Luna_texts)\n",
        "filter = lambda *w: 'ukulele' not in w and 'uke' not in w and 'ukes' not in w and 'eku' not in w and 'cavaquinho' not in w and 'machete' not in w and 'cavaco' not in w and 'cavacolele' not in w and 'timple' not in w and 'taropatch' not in w\n",
        "finder_Luna.apply_ngram_filter(filter)\n",
        "finder_Luna.apply_freq_filter(7)\n",
        "finder_Luna.score_ngrams(bigram_measures.pmi)[:6]"
      ],
      "metadata": {
        "colab": {
          "base_uri": "https://localhost:8080/"
        },
        "id": "_xv5r1rbDT3Y",
        "outputId": "140c65db-82b9-48d2-9f0b-ccbb1fb1126b"
      },
      "execution_count": 217,
      "outputs": [
        {
          "output_type": "stream",
          "name": "stdout",
          "text": [
            "Luna Guitars\n"
          ]
        },
        {
          "output_type": "execute_result",
          "data": {
            "text/plain": [
              "[(('other', 'ukes'), 6.756307436606946),\n",
              " (('beginner', 'uke'), 4.69181962345249),\n",
              " (('concert', 'uke'), 4.414285647923583),\n",
              " (('concert', 'ukulele'), 3.9645078463853007),\n",
              " (('first', 'ukulele'), 3.8510720825971934),\n",
              " (('first', 'uke'), 3.6728186615224363)]"
            ]
          },
          "metadata": {},
          "execution_count": 217
        }
      ]
    },
    {
      "cell_type": "markdown",
      "source": [
        "Не очень чувствуются различия между брендами. Но думаю, что это оттого, что у них у всех примерно одинаковых типов укулеле.\n",
        "\n",
        "Было бы здорово отфильтровать биграммы,чтоб соседями были, например, только ADJ. А ещё можно были три-четыре-итд-граммы добавить."
      ],
      "metadata": {
        "id": "gNPNKChhEioN"
      }
    }
  ],
  "metadata": {
    "kernelspec": {
      "display_name": "Python 3",
      "language": "python",
      "name": "python3"
    },
    "language_info": {
      "codemirror_mode": {
        "name": "ipython",
        "version": 3
      },
      "file_extension": ".py",
      "mimetype": "text/x-python",
      "name": "python",
      "nbconvert_exporter": "python",
      "pygments_lexer": "ipython3",
      "version": "3.7.4"
    },
    "colab": {
      "name": "HW2_tbkazakova_NER.ipynb",
      "provenance": [],
      "collapsed_sections": [],
      "toc_visible": true
    },
    "accelerator": "GPU"
  },
  "nbformat": 4,
  "nbformat_minor": 0
}